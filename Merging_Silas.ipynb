{
 "cells": [
  {
   "cell_type": "code",
   "execution_count": 1,
   "metadata": {
    "collapsed": true
   },
   "outputs": [],
   "source": [
    "import pandas as pd\n",
    "import numpy as np\n",
    "import copy\n",
    "import itertools as itr\n",
    "import matplotlib.pyplot as plt\n",
    "%matplotlib inline\n",
    "pd.options.display.max_columns = 150"
   ]
  },
  {
   "cell_type": "code",
   "execution_count": 2,
   "metadata": {},
   "outputs": [
    {
     "data": {
      "text/plain": [
       "'Free (1.0 to 2.5), Partly Free (3.0 to 5.0), or Not Free (5.5 to 7.0)\\nhttps://freedomhouse.org/report/methodology-freedom-world-2017\\n'"
      ]
     },
     "execution_count": 2,
     "metadata": {},
     "output_type": "execute_result"
    }
   ],
   "source": [
    "'''FA COLUMN HEADINGS\n",
    "Index(['DateYear', 'country_id', 'country_code', 'country_name', 'region_id',\n",
    "       'region_name', 'income_group_id', 'income_group_name',\n",
    "       'income_group_acronym', 'implementing_agency_id',\n",
    "       'implementing_agency_acronym', 'implementing_agency_name',\n",
    "       'implementing_subagency_id', 'subagency_acronym', 'subagency_name',\n",
    "       'channel_category_id', 'channel_category_name',\n",
    "       'channel_subcategory_id', 'channel_subcategory_name', 'channel_id',\n",
    "       'channel_name', 'dac_category_id', 'dac_category_name',\n",
    "       'dac_sector_code', 'dac_sector_name', 'dac_purpose_code',\n",
    "       'dac_purpose_name', 'funding_account_id', 'funding_account_name',\n",
    "       'funding_agency_id', 'funding_agency_name', 'funding_agency_acronym',\n",
    "       'assistance_category_id', 'assistance_category_name',\n",
    "       'aid_type_group_id', 'aid_type_group_name', 'activity_id',\n",
    "       'activity_name', 'activity_project_number', 'activity_start_date',\n",
    "       'activity_end_date', 'transaction_type_id', 'transaction_type_name',\n",
    "       'fiscal_year', 'current_amount', 'constant_amount', 'USG_sector_id',\n",
    "       'USG_sector_name', 'framework', 'submission_id', 'numeric_year']\n",
    "'''\n",
    "\n",
    "'''Free (1.0 to 2.5), Partly Free (3.0 to 5.0), or Not Free (5.5 to 7.0)\n",
    "https://freedomhouse.org/report/methodology-freedom-world-2017\n",
    "'''"
   ]
  },
  {
   "cell_type": "code",
   "execution_count": 3,
   "metadata": {
    "collapsed": true
   },
   "outputs": [],
   "source": [
    "# read in foreign aid (fa) data and copy to data frame\n",
    "fa_data_in = pd.read_csv('us_foreign_aid_complete (1).csv', low_memory=False)"
   ]
  },
  {
   "cell_type": "code",
   "execution_count": 4,
   "metadata": {
    "collapsed": true
   },
   "outputs": [],
   "source": [
    "df_fa = copy.copy(fa_data_in.reset_index())"
   ]
  },
  {
   "cell_type": "code",
   "execution_count": 5,
   "metadata": {
    "collapsed": true
   },
   "outputs": [],
   "source": [
    "# read in freedom house (fh) data and copy to data frame\n",
    "fh_data_in = pd.read_csv('FH_Country_and_Territory_Ratings_and_Statuses_1972-2016.csv')"
   ]
  },
  {
   "cell_type": "code",
   "execution_count": 6,
   "metadata": {
    "collapsed": true
   },
   "outputs": [],
   "source": [
    "fh_df = copy.copy(fh_data_in)"
   ]
  },
  {
   "cell_type": "markdown",
   "metadata": {},
   "source": [
    "### Freedom House dataframe preparation"
   ]
  },
  {
   "cell_type": "code",
   "execution_count": 7,
   "metadata": {
    "collapsed": true
   },
   "outputs": [],
   "source": [
    "# prepare for melt fh df so that every country has for each year its cl, pr, status\n",
    "fh_df = fh_df.T.reset_index(drop=True)\n",
    "fh_df.columns = fh_df.loc[0]\n",
    "fh_df = fh_df.drop(0)\n",
    "fh_df['Year(s) Under Review'] = fh_df['Year(s) Under Review'].ffill()"
   ]
  },
  {
   "cell_type": "code",
   "execution_count": 8,
   "metadata": {
    "collapsed": true
   },
   "outputs": [],
   "source": [
    "# corrects headers for FH dataset and prepares entries for merge with fa data\n",
    "fh_c_list = list(fh_df.columns)\n",
    "fh_c_list = [i.replace('&', 'and') for i in fh_c_list[2:]]\n",
    "fh_c_list = pd.Series(fh_c_list).str.replace('Yugoslavia (Serbia and Montenegro)', 'Serbia and Montenegro')\n",
    "fh_c_list = pd.Series(fh_c_list).str.replace(', The', '')\n",
    "fh_c_list = list(fh_c_list)\n",
    "fh_c_list.insert(0, 'FH_Score')\n",
    "fh_c_list.insert(0, 'Year')\n",
    "fh_df.columns = fh_c_list"
   ]
  },
  {
   "cell_type": "code",
   "execution_count": 9,
   "metadata": {
    "collapsed": true
   },
   "outputs": [],
   "source": [
    "# correcting year to single year note:a hack here where a single regex could work\n",
    "fh_df['new'], fh_df['newer'] = fh_df['Year'].str.split('-').str\n",
    "fh_df['new'] = fh_df['new'].str.replace(r'\\D', '')\n",
    "fh_df['Year'] = fh_df['new']\n",
    "del fh_df['new']\n",
    "del fh_df['newer']\n",
    "# correct db for overlapping year\n",
    "fh_df = fh_df.append(fh_df[27:30], ignore_index=True)"
   ]
  },
  {
   "cell_type": "code",
   "execution_count": 10,
   "metadata": {
    "collapsed": true
   },
   "outputs": [],
   "source": [
    "# create a new entry to get 1982 (because 1981 and 1982 were done in same year)\n",
    "new_Y82 = fh_df.Year[132:]\n",
    "fh_df.Year[132:] = list(map(lambda x: int(x)+1, new_Y82))"
   ]
  },
  {
   "cell_type": "code",
   "execution_count": 11,
   "metadata": {
    "collapsed": true
   },
   "outputs": [],
   "source": [
    "# bump each year up by one from '82 to '88\n",
    "new_80s = fh_df.Year[30:51]\n",
    "fh_df.Year[30:51] = list(map(lambda x: int(x)+1, new_80s))"
   ]
  },
  {
   "cell_type": "code",
   "execution_count": 12,
   "metadata": {
    "collapsed": true
   },
   "outputs": [],
   "source": [
    "fh_df.Year = fh_df.Year.astype(int)"
   ]
  },
  {
   "cell_type": "code",
   "execution_count": 13,
   "metadata": {
    "collapsed": true
   },
   "outputs": [],
   "source": [
    "fh_df = fh_df.sort_values(by='Year').reset_index(drop=True)"
   ]
  },
  {
   "cell_type": "code",
   "execution_count": 14,
   "metadata": {
    "collapsed": true
   },
   "outputs": [],
   "source": [
    "# switches columns FH score with Year\n",
    "fh_melt = fh_df.set_index('FH_Score').reset_index()\n",
    "# melts df on fh score and year\n",
    "fh_melted = pd.melt(fh_melt, id_vars=['FH_Score', 'Year'], value_vars=list(fh_melt)[2:])\n",
    "fh_melted.rename(columns={'variable':'country_name', 'value':'FH_value'}, inplace=True)\n",
    "# prep for selection\n",
    "fh_melted.FH_Score = fh_melted['FH_Score'].str.strip()"
   ]
  },
  {
   "cell_type": "code",
   "execution_count": 15,
   "metadata": {
    "collapsed": true
   },
   "outputs": [],
   "source": [
    "# selection here example CL\n",
    "fh_CL = fh_melted.loc[fh_melted['FH_Score'] == 'CL'].sort_values(by=['Year', 'country_name'])\n",
    "fh_CL = fh_CL.replace('-', fh_CL.replace(['-'], [np.nan]))"
   ]
  },
  {
   "cell_type": "code",
   "execution_count": 16,
   "metadata": {
    "collapsed": true
   },
   "outputs": [],
   "source": [
    "# caught one odd value\n",
    "# fh_CL.iloc[162]['FH_value'] = '3'"
   ]
  },
  {
   "cell_type": "code",
   "execution_count": 17,
   "metadata": {
    "collapsed": true
   },
   "outputs": [],
   "source": [
    "# one value kept parenthesis - deleting parans\n",
    "# fh_df = fh_df.set_value(162, 'FH_value', '3')"
   ]
  },
  {
   "cell_type": "code",
   "execution_count": 18,
   "metadata": {
    "collapsed": true
   },
   "outputs": [],
   "source": [
    "fh_CL = fh_CL.set_value(21871, 'FH_value', '3')"
   ]
  },
  {
   "cell_type": "code",
   "execution_count": 19,
   "metadata": {
    "collapsed": true
   },
   "outputs": [],
   "source": [
    "# prep FH dtypes for merge with FA\n",
    "fh_CL.Year = fh_CL.Year.astype(int)\n",
    "fh_CL.FH_value = fh_CL.FH_value.astype(float)"
   ]
  },
  {
   "cell_type": "code",
   "execution_count": 20,
   "metadata": {},
   "outputs": [],
   "source": [
    "fh_CL_df = pd.DataFrame(fh_CL.groupby(['country_name', 'Year'])['FH_value'].mean())\n",
    "fh_CL_df.reset_index(inplace=True)\n",
    "fh_CL_df.rename(columns={'country_name':'country','Year':'year' }, inplace=True)"
   ]
  },
  {
   "cell_type": "code",
   "execution_count": 21,
   "metadata": {},
   "outputs": [
    {
     "name": "stdout",
     "output_type": "stream",
     "text": [
      "Stored 'fh_CL_df' (DataFrame)\n"
     ]
    }
   ],
   "source": [
    "%store fh_CL_df"
   ]
  },
  {
   "cell_type": "markdown",
   "metadata": {},
   "source": [
    "### Foreign Aid dataframe preparation"
   ]
  },
  {
   "cell_type": "code",
   "execution_count": 22,
   "metadata": {},
   "outputs": [],
   "source": [
    "# prepare FA df for merge with FH on countries\n",
    "d = dict([('Cabo Verde', 'Cape Verde'),('China (P.R.C.)', 'China'),('China, Republic of (Taiwan)', 'Taiwan'),('Czechia', 'Czech Republic'),\n",
    "('Germany (former East)', 'Germany, E.'),('Korea, Democratic Republic', 'North Korea'),('Korea Republic', 'South Korea'),\n",
    "('Vietnam (former South)', 'Vietnam, S.'),('Yemen (former P.D.R.)', 'Yemen, S.')])\n",
    "df_fa.country_name = pd.Series([d.get(e, e) for e in list(df_fa.country_name)])\n",
    "df_fa.country_name = df_fa.country_name.str.replace(r'\\(.*', '')\n",
    "# prepare FA df for merge with FH on year\n",
    "df_fa['index'] = df_fa.numeric_year.astype(int)\n",
    "df_fa.rename(columns={'index': 'year','country_name': 'country' }, inplace=True) \n",
    "del df_fa['numeric_year']"
   ]
  },
  {
   "cell_type": "code",
   "execution_count": 24,
   "metadata": {},
   "outputs": [
    {
     "data": {
      "text/html": [
       "<div>\n",
       "<style>\n",
       "    .dataframe thead tr:only-child th {\n",
       "        text-align: right;\n",
       "    }\n",
       "\n",
       "    .dataframe thead th {\n",
       "        text-align: left;\n",
       "    }\n",
       "\n",
       "    .dataframe tbody tr th {\n",
       "        vertical-align: top;\n",
       "    }\n",
       "</style>\n",
       "<table border=\"1\" class=\"dataframe\">\n",
       "  <thead>\n",
       "    <tr style=\"text-align: right;\">\n",
       "      <th></th>\n",
       "      <th>year</th>\n",
       "      <th>country_id</th>\n",
       "      <th>country_code</th>\n",
       "      <th>country</th>\n",
       "      <th>region_id</th>\n",
       "      <th>region_name</th>\n",
       "      <th>income_group_id</th>\n",
       "      <th>income_group_name</th>\n",
       "      <th>income_group_acronym</th>\n",
       "      <th>implementing_agency_id</th>\n",
       "      <th>implementing_agency_acronym</th>\n",
       "      <th>implementing_agency_name</th>\n",
       "      <th>implementing_subagency_id</th>\n",
       "      <th>subagency_acronym</th>\n",
       "      <th>subagency_name</th>\n",
       "      <th>channel_category_id</th>\n",
       "      <th>channel_category_name</th>\n",
       "      <th>channel_subcategory_id</th>\n",
       "      <th>channel_subcategory_name</th>\n",
       "      <th>channel_id</th>\n",
       "      <th>channel_name</th>\n",
       "      <th>dac_category_id</th>\n",
       "      <th>dac_category_name</th>\n",
       "      <th>dac_sector_code</th>\n",
       "      <th>dac_sector_name</th>\n",
       "      <th>dac_purpose_code</th>\n",
       "      <th>dac_purpose_name</th>\n",
       "      <th>funding_account_id</th>\n",
       "      <th>funding_account_name</th>\n",
       "      <th>funding_agency_id</th>\n",
       "      <th>funding_agency_name</th>\n",
       "      <th>funding_agency_acronym</th>\n",
       "      <th>assistance_category_id</th>\n",
       "      <th>assistance_category_name</th>\n",
       "      <th>aid_type_group_id</th>\n",
       "      <th>aid_type_group_name</th>\n",
       "      <th>activity_id</th>\n",
       "      <th>activity_name</th>\n",
       "      <th>activity_project_number</th>\n",
       "      <th>activity_start_date</th>\n",
       "      <th>activity_end_date</th>\n",
       "      <th>transaction_type_id</th>\n",
       "      <th>transaction_type_name</th>\n",
       "      <th>fiscal_year</th>\n",
       "      <th>current_amount</th>\n",
       "      <th>constant_amount</th>\n",
       "      <th>USG_sector_id</th>\n",
       "      <th>USG_sector_name</th>\n",
       "      <th>framework</th>\n",
       "      <th>submission_id</th>\n",
       "    </tr>\n",
       "  </thead>\n",
       "  <tbody>\n",
       "    <tr>\n",
       "      <th>0</th>\n",
       "      <td>2011</td>\n",
       "      <td>4</td>\n",
       "      <td>AFG</td>\n",
       "      <td>Afghanistan</td>\n",
       "      <td>4</td>\n",
       "      <td>South and Central Asia</td>\n",
       "      <td>1.0</td>\n",
       "      <td>Low Income Country</td>\n",
       "      <td>LIC</td>\n",
       "      <td>7</td>\n",
       "      <td>DOD</td>\n",
       "      <td>Department of Defense</td>\n",
       "      <td>999</td>\n",
       "      <td>NaN</td>\n",
       "      <td>not applicable</td>\n",
       "      <td>1.0</td>\n",
       "      <td>Government</td>\n",
       "      <td>1.0</td>\n",
       "      <td>Government - United States</td>\n",
       "      <td>1000003</td>\n",
       "      <td>U.S. Government - Department of Defense</td>\n",
       "      <td>3</td>\n",
       "      <td>Governance</td>\n",
       "      <td>152</td>\n",
       "      <td>Conflict, Peace, and Security</td>\n",
       "      <td>15210</td>\n",
       "      <td>Security system management and reform</td>\n",
       "      <td>21x2091</td>\n",
       "      <td>Department of the Army, Afghanistan Security F...</td>\n",
       "      <td>8</td>\n",
       "      <td>Department of the Army</td>\n",
       "      <td>ARMY</td>\n",
       "      <td>2</td>\n",
       "      <td>Military</td>\n",
       "      <td>3</td>\n",
       "      <td>Project-Type</td>\n",
       "      <td>25078</td>\n",
       "      <td>Afghanistan Security Force Fund</td>\n",
       "      <td>NaN</td>\n",
       "      <td>NaN</td>\n",
       "      <td>NaN</td>\n",
       "      <td>2</td>\n",
       "      <td>Obligations</td>\n",
       "      <td>2011</td>\n",
       "      <td>9941000000</td>\n",
       "      <td>10731991839</td>\n",
       "      <td>3</td>\n",
       "      <td>Stabilization Operations and Security Sector R...</td>\n",
       "      <td>NaN</td>\n",
       "      <td>28</td>\n",
       "    </tr>\n",
       "    <tr>\n",
       "      <th>1</th>\n",
       "      <td>2012</td>\n",
       "      <td>4</td>\n",
       "      <td>AFG</td>\n",
       "      <td>Afghanistan</td>\n",
       "      <td>4</td>\n",
       "      <td>South and Central Asia</td>\n",
       "      <td>1.0</td>\n",
       "      <td>Low Income Country</td>\n",
       "      <td>LIC</td>\n",
       "      <td>7</td>\n",
       "      <td>DOD</td>\n",
       "      <td>Department of Defense</td>\n",
       "      <td>999</td>\n",
       "      <td>NaN</td>\n",
       "      <td>not applicable</td>\n",
       "      <td>1.0</td>\n",
       "      <td>Government</td>\n",
       "      <td>1.0</td>\n",
       "      <td>Government - United States</td>\n",
       "      <td>1000003</td>\n",
       "      <td>U.S. Government - Department of Defense</td>\n",
       "      <td>3</td>\n",
       "      <td>Governance</td>\n",
       "      <td>152</td>\n",
       "      <td>Conflict, Peace, and Security</td>\n",
       "      <td>15210</td>\n",
       "      <td>Security system management and reform</td>\n",
       "      <td>21x2091</td>\n",
       "      <td>Department of the Army, Afghanistan Security F...</td>\n",
       "      <td>8</td>\n",
       "      <td>Department of the Army</td>\n",
       "      <td>ARMY</td>\n",
       "      <td>2</td>\n",
       "      <td>Military</td>\n",
       "      <td>3</td>\n",
       "      <td>Project-Type</td>\n",
       "      <td>25078</td>\n",
       "      <td>Afghanistan Security Force Fund</td>\n",
       "      <td>NaN</td>\n",
       "      <td>NaN</td>\n",
       "      <td>NaN</td>\n",
       "      <td>2</td>\n",
       "      <td>Obligations</td>\n",
       "      <td>2012</td>\n",
       "      <td>9243000000</td>\n",
       "      <td>9799467226</td>\n",
       "      <td>3</td>\n",
       "      <td>Stabilization Operations and Security Sector R...</td>\n",
       "      <td>NaN</td>\n",
       "      <td>28</td>\n",
       "    </tr>\n",
       "  </tbody>\n",
       "</table>\n",
       "</div>"
      ],
      "text/plain": [
       "   year  country_id country_code      country  region_id  \\\n",
       "0  2011           4          AFG  Afghanistan          4   \n",
       "1  2012           4          AFG  Afghanistan          4   \n",
       "\n",
       "              region_name  income_group_id   income_group_name  \\\n",
       "0  South and Central Asia              1.0  Low Income Country   \n",
       "1  South and Central Asia              1.0  Low Income Country   \n",
       "\n",
       "  income_group_acronym  implementing_agency_id implementing_agency_acronym  \\\n",
       "0                  LIC                       7                         DOD   \n",
       "1                  LIC                       7                         DOD   \n",
       "\n",
       "  implementing_agency_name  implementing_subagency_id subagency_acronym  \\\n",
       "0    Department of Defense                        999               NaN   \n",
       "1    Department of Defense                        999               NaN   \n",
       "\n",
       "   subagency_name  channel_category_id channel_category_name  \\\n",
       "0  not applicable                  1.0            Government   \n",
       "1  not applicable                  1.0            Government   \n",
       "\n",
       "   channel_subcategory_id    channel_subcategory_name  channel_id  \\\n",
       "0                     1.0  Government - United States     1000003   \n",
       "1                     1.0  Government - United States     1000003   \n",
       "\n",
       "                              channel_name  dac_category_id dac_category_name  \\\n",
       "0  U.S. Government - Department of Defense                3        Governance   \n",
       "1  U.S. Government - Department of Defense                3        Governance   \n",
       "\n",
       "   dac_sector_code                dac_sector_name  dac_purpose_code  \\\n",
       "0              152  Conflict, Peace, and Security             15210   \n",
       "1              152  Conflict, Peace, and Security             15210   \n",
       "\n",
       "                        dac_purpose_name funding_account_id  \\\n",
       "0  Security system management and reform            21x2091   \n",
       "1  Security system management and reform            21x2091   \n",
       "\n",
       "                                funding_account_name  funding_agency_id  \\\n",
       "0  Department of the Army, Afghanistan Security F...                  8   \n",
       "1  Department of the Army, Afghanistan Security F...                  8   \n",
       "\n",
       "      funding_agency_name funding_agency_acronym  assistance_category_id  \\\n",
       "0  Department of the Army                   ARMY                       2   \n",
       "1  Department of the Army                   ARMY                       2   \n",
       "\n",
       "  assistance_category_name  aid_type_group_id aid_type_group_name  \\\n",
       "0                 Military                  3        Project-Type   \n",
       "1                 Military                  3        Project-Type   \n",
       "\n",
       "   activity_id                    activity_name activity_project_number  \\\n",
       "0        25078  Afghanistan Security Force Fund                     NaN   \n",
       "1        25078  Afghanistan Security Force Fund                     NaN   \n",
       "\n",
       "  activity_start_date activity_end_date  transaction_type_id  \\\n",
       "0                 NaN               NaN                    2   \n",
       "1                 NaN               NaN                    2   \n",
       "\n",
       "  transaction_type_name fiscal_year  current_amount  constant_amount  \\\n",
       "0           Obligations        2011      9941000000      10731991839   \n",
       "1           Obligations        2012      9243000000       9799467226   \n",
       "\n",
       "   USG_sector_id                                    USG_sector_name framework  \\\n",
       "0              3  Stabilization Operations and Security Sector R...       NaN   \n",
       "1              3  Stabilization Operations and Security Sector R...       NaN   \n",
       "\n",
       "   submission_id  \n",
       "0             28  \n",
       "1             28  "
      ]
     },
     "execution_count": 24,
     "metadata": {},
     "output_type": "execute_result"
    }
   ],
   "source": [
    "df_fa.head(2)"
   ]
  },
  {
   "cell_type": "code",
   "execution_count": 25,
   "metadata": {},
   "outputs": [
    {
     "name": "stdout",
     "output_type": "stream",
     "text": [
      "Stored 'df_fa_prep' (DataFrame)\n"
     ]
    }
   ],
   "source": [
    "# select feature (here its amounts), reduce(agg years), select/add FH score\n",
    "df_fa_prep = df_fa.groupby(['country', 'year','country_code', 'country_id'])['current_amount', 'constant_amount'].mean()\n",
    "df_fa_prep['current_diff'] = df_fa_prep.current_amount.diff()\n",
    "df_fa_prep['constant_diff'] = df_fa_prep.constant_amount.diff()\n",
    "df_fa_prep['current_pct_chg'] = df_fa_prep.current_amount.pct_change()\n",
    "df_fa_prep['constant_pct_chg'] = df_fa_prep.constant_amount.pct_change()\n",
    "df_fa_prep.reset_index(inplace=True)\n",
    "df_fa_prep.rename(columns={'country_name':'country'}, inplace=True)\n",
    "%store df_fa_prep"
   ]
  },
  {
   "cell_type": "code",
   "execution_count": 27,
   "metadata": {},
   "outputs": [
    {
     "data": {
      "text/html": [
       "<div>\n",
       "<style>\n",
       "    .dataframe thead tr:only-child th {\n",
       "        text-align: right;\n",
       "    }\n",
       "\n",
       "    .dataframe thead th {\n",
       "        text-align: left;\n",
       "    }\n",
       "\n",
       "    .dataframe tbody tr th {\n",
       "        vertical-align: top;\n",
       "    }\n",
       "</style>\n",
       "<table border=\"1\" class=\"dataframe\">\n",
       "  <thead>\n",
       "    <tr style=\"text-align: right;\">\n",
       "      <th></th>\n",
       "      <th>country</th>\n",
       "      <th>year</th>\n",
       "      <th>country_code</th>\n",
       "      <th>country_id</th>\n",
       "      <th>current_amount</th>\n",
       "      <th>constant_amount</th>\n",
       "      <th>current_diff</th>\n",
       "      <th>constant_diff</th>\n",
       "      <th>current_pct_chg</th>\n",
       "      <th>constant_pct_chg</th>\n",
       "    </tr>\n",
       "  </thead>\n",
       "  <tbody>\n",
       "    <tr>\n",
       "      <th>0</th>\n",
       "      <td>Afghanistan</td>\n",
       "      <td>1950</td>\n",
       "      <td>AFG</td>\n",
       "      <td>4</td>\n",
       "      <td>1000.0</td>\n",
       "      <td>8201.0</td>\n",
       "      <td>NaN</td>\n",
       "      <td>NaN</td>\n",
       "      <td>NaN</td>\n",
       "      <td>NaN</td>\n",
       "    </tr>\n",
       "    <tr>\n",
       "      <th>1</th>\n",
       "      <td>Afghanistan</td>\n",
       "      <td>1951</td>\n",
       "      <td>AFG</td>\n",
       "      <td>4</td>\n",
       "      <td>100000.0</td>\n",
       "      <td>778151.0</td>\n",
       "      <td>99000.0</td>\n",
       "      <td>769950.0</td>\n",
       "      <td>99.0</td>\n",
       "      <td>93.884892</td>\n",
       "    </tr>\n",
       "  </tbody>\n",
       "</table>\n",
       "</div>"
      ],
      "text/plain": [
       "       country  year country_code  country_id  current_amount  \\\n",
       "0  Afghanistan  1950          AFG           4          1000.0   \n",
       "1  Afghanistan  1951          AFG           4        100000.0   \n",
       "\n",
       "   constant_amount  current_diff  constant_diff  current_pct_chg  \\\n",
       "0           8201.0           NaN            NaN              NaN   \n",
       "1         778151.0       99000.0       769950.0             99.0   \n",
       "\n",
       "   constant_pct_chg  \n",
       "0               NaN  \n",
       "1         93.884892  "
      ]
     },
     "execution_count": 27,
     "metadata": {},
     "output_type": "execute_result"
    }
   ],
   "source": [
    "df_fa_prep.head(2)"
   ]
  },
  {
   "cell_type": "code",
   "execution_count": null,
   "metadata": {
    "collapsed": true
   },
   "outputs": [],
   "source": [
    "# df_fa_prep = df_fa.groupby(['country_name', 'Year'])['current_amount', 'constant_amount'].mean()"
   ]
  },
  {
   "cell_type": "markdown",
   "metadata": {},
   "source": [
    "### Merges DataFrames: Freedom House, Foreign Aid, World Bank"
   ]
  },
  {
   "cell_type": "code",
   "execution_count": 28,
   "metadata": {
    "collapsed": true
   },
   "outputs": [],
   "source": [
    "%store -r fh_CL_df\n",
    "%store -r df_fa_prep\n",
    "%store -r wb_data_df"
   ]
  },
  {
   "cell_type": "code",
   "execution_count": 29,
   "metadata": {},
   "outputs": [],
   "source": [
    "# merge FH and FA here\n",
    "mgd_df = pd.merge(fh_CL_df, df_fa_prep, how='left', on=['country', 'year'])"
   ]
  },
  {
   "cell_type": "code",
   "execution_count": 30,
   "metadata": {},
   "outputs": [],
   "source": [
    "# filling nan country codes\n",
    "mgd_df.country_code = mgd_df.country_code.bfill()"
   ]
  },
  {
   "cell_type": "code",
   "execution_count": 31,
   "metadata": {},
   "outputs": [],
   "source": [
    "# merge WB and FHFA here\n",
    "FHFAWB_df = pd.merge(mgd_df, wb_data_df, how='left', on=['country', 'year'])"
   ]
  },
  {
   "cell_type": "code",
   "execution_count": 32,
   "metadata": {},
   "outputs": [
    {
     "name": "stdout",
     "output_type": "stream",
     "text": [
      "Stored 'FHFAWB_df' (DataFrame)\n"
     ]
    }
   ],
   "source": [
    "%store FHFAWB_df"
   ]
  },
  {
   "cell_type": "code",
   "execution_count": 34,
   "metadata": {},
   "outputs": [
    {
     "data": {
      "text/html": [
       "<div>\n",
       "<style>\n",
       "    .dataframe thead tr:only-child th {\n",
       "        text-align: right;\n",
       "    }\n",
       "\n",
       "    .dataframe thead th {\n",
       "        text-align: left;\n",
       "    }\n",
       "\n",
       "    .dataframe tbody tr th {\n",
       "        vertical-align: top;\n",
       "    }\n",
       "</style>\n",
       "<table border=\"1\" class=\"dataframe\">\n",
       "  <thead>\n",
       "    <tr style=\"text-align: right;\">\n",
       "      <th></th>\n",
       "      <th>country</th>\n",
       "      <th>year</th>\n",
       "      <th>FH_value</th>\n",
       "      <th>country_code</th>\n",
       "      <th>country_id</th>\n",
       "      <th>current_amount</th>\n",
       "      <th>constant_amount</th>\n",
       "      <th>current_diff</th>\n",
       "      <th>constant_diff</th>\n",
       "      <th>current_pct_chg</th>\n",
       "      <th>constant_pct_chg</th>\n",
       "      <th>date</th>\n",
       "      <th>gdppc</th>\n",
       "      <th>gini</th>\n",
       "      <th>nat</th>\n",
       "      <th>pop</th>\n",
       "      <th>voice</th>\n",
       "    </tr>\n",
       "  </thead>\n",
       "  <tbody>\n",
       "    <tr>\n",
       "      <th>0</th>\n",
       "      <td>Afghanistan</td>\n",
       "      <td>1972</td>\n",
       "      <td>5.0</td>\n",
       "      <td>AFG</td>\n",
       "      <td>4.0</td>\n",
       "      <td>5.134143e+06</td>\n",
       "      <td>2.323853e+07</td>\n",
       "      <td>2.363143e+06</td>\n",
       "      <td>1.010229e+07</td>\n",
       "      <td>0.852812</td>\n",
       "      <td>0.769040</td>\n",
       "      <td>1972-01-01</td>\n",
       "      <td>NaN</td>\n",
       "      <td>NaN</td>\n",
       "      <td>0.397964</td>\n",
       "      <td>11721940.0</td>\n",
       "      <td>NaN</td>\n",
       "    </tr>\n",
       "    <tr>\n",
       "      <th>1</th>\n",
       "      <td>Afghanistan</td>\n",
       "      <td>1973</td>\n",
       "      <td>6.0</td>\n",
       "      <td>AFG</td>\n",
       "      <td>4.0</td>\n",
       "      <td>6.468000e+06</td>\n",
       "      <td>2.805325e+07</td>\n",
       "      <td>1.333857e+06</td>\n",
       "      <td>4.814714e+06</td>\n",
       "      <td>0.259801</td>\n",
       "      <td>0.207187</td>\n",
       "      <td>1973-01-01</td>\n",
       "      <td>NaN</td>\n",
       "      <td>NaN</td>\n",
       "      <td>0.768116</td>\n",
       "      <td>12027822.0</td>\n",
       "      <td>NaN</td>\n",
       "    </tr>\n",
       "  </tbody>\n",
       "</table>\n",
       "</div>"
      ],
      "text/plain": [
       "       country  year  FH_value country_code  country_id  current_amount  \\\n",
       "0  Afghanistan  1972       5.0          AFG         4.0    5.134143e+06   \n",
       "1  Afghanistan  1973       6.0          AFG         4.0    6.468000e+06   \n",
       "\n",
       "   constant_amount  current_diff  constant_diff  current_pct_chg  \\\n",
       "0     2.323853e+07  2.363143e+06   1.010229e+07         0.852812   \n",
       "1     2.805325e+07  1.333857e+06   4.814714e+06         0.259801   \n",
       "\n",
       "   constant_pct_chg       date  gdppc  gini       nat         pop  voice  \n",
       "0          0.769040 1972-01-01    NaN   NaN  0.397964  11721940.0    NaN  \n",
       "1          0.207187 1973-01-01    NaN   NaN  0.768116  12027822.0    NaN  "
      ]
     },
     "execution_count": 34,
     "metadata": {},
     "output_type": "execute_result"
    }
   ],
   "source": [
    "FHFAWB_df.head(2)"
   ]
  },
  {
   "cell_type": "markdown",
   "metadata": {},
   "source": [
    "### Calcs\n",
    "- calculate diffs, pct change, and rolling mean of y2y pct change (5 years) for FH score\n"
   ]
  },
  {
   "cell_type": "code",
   "execution_count": 35,
   "metadata": {},
   "outputs": [
    {
     "name": "stdout",
     "output_type": "stream",
     "text": [
      "Stored 'FHFAWB_df' (DataFrame)\n"
     ]
    },
    {
     "name": "stderr",
     "output_type": "stream",
     "text": [
      "C:\\Users\\silas\\AppData\\Local\\Continuum\\anaconda3\\lib\\site-packages\\ipykernel_launcher.py:5: SettingWithCopyWarning: \n",
      "A value is trying to be set on a copy of a slice from a DataFrame.\n",
      "Try using .loc[row_indexer,col_indexer] = value instead\n",
      "\n",
      "See the caveats in the documentation: http://pandas.pydata.org/pandas-docs/stable/indexing.html#indexing-view-versus-copy\n",
      "  \"\"\"\n",
      "C:\\Users\\silas\\AppData\\Local\\Continuum\\anaconda3\\lib\\site-packages\\ipykernel_launcher.py:6: SettingWithCopyWarning: \n",
      "A value is trying to be set on a copy of a slice from a DataFrame.\n",
      "Try using .loc[row_indexer,col_indexer] = value instead\n",
      "\n",
      "See the caveats in the documentation: http://pandas.pydata.org/pandas-docs/stable/indexing.html#indexing-view-versus-copy\n",
      "  \n"
     ]
    },
    {
     "data": {
      "text/html": [
       "<div>\n",
       "<style>\n",
       "    .dataframe thead tr:only-child th {\n",
       "        text-align: right;\n",
       "    }\n",
       "\n",
       "    .dataframe thead th {\n",
       "        text-align: left;\n",
       "    }\n",
       "\n",
       "    .dataframe tbody tr th {\n",
       "        vertical-align: top;\n",
       "    }\n",
       "</style>\n",
       "<table border=\"1\" class=\"dataframe\">\n",
       "  <thead>\n",
       "    <tr style=\"text-align: right;\">\n",
       "      <th></th>\n",
       "      <th>country</th>\n",
       "      <th>year</th>\n",
       "      <th>FH_value</th>\n",
       "      <th>country_code</th>\n",
       "      <th>country_id</th>\n",
       "      <th>current_amount</th>\n",
       "      <th>constant_amount</th>\n",
       "      <th>current_diff</th>\n",
       "      <th>constant_diff</th>\n",
       "      <th>current_pct_chg</th>\n",
       "      <th>constant_pct_chg</th>\n",
       "      <th>date</th>\n",
       "      <th>gdppc</th>\n",
       "      <th>gini</th>\n",
       "      <th>nat</th>\n",
       "      <th>pop</th>\n",
       "      <th>voice</th>\n",
       "      <th>FH_diff</th>\n",
       "      <th>FH_pct_change</th>\n",
       "      <th>FH_pct_rolling5</th>\n",
       "    </tr>\n",
       "  </thead>\n",
       "  <tbody>\n",
       "    <tr>\n",
       "      <th>0</th>\n",
       "      <td>Afghanistan</td>\n",
       "      <td>1972</td>\n",
       "      <td>5.0</td>\n",
       "      <td>AFG</td>\n",
       "      <td>4.0</td>\n",
       "      <td>5.134143e+06</td>\n",
       "      <td>2.323853e+07</td>\n",
       "      <td>2.363143e+06</td>\n",
       "      <td>1.010229e+07</td>\n",
       "      <td>0.852812</td>\n",
       "      <td>0.769040</td>\n",
       "      <td>1972-01-01</td>\n",
       "      <td>NaN</td>\n",
       "      <td>NaN</td>\n",
       "      <td>0.397964</td>\n",
       "      <td>11721940.0</td>\n",
       "      <td>NaN</td>\n",
       "      <td>NaN</td>\n",
       "      <td>NaN</td>\n",
       "      <td>NaN</td>\n",
       "    </tr>\n",
       "    <tr>\n",
       "      <th>1</th>\n",
       "      <td>Afghanistan</td>\n",
       "      <td>1973</td>\n",
       "      <td>6.0</td>\n",
       "      <td>AFG</td>\n",
       "      <td>4.0</td>\n",
       "      <td>6.468000e+06</td>\n",
       "      <td>2.805325e+07</td>\n",
       "      <td>1.333857e+06</td>\n",
       "      <td>4.814714e+06</td>\n",
       "      <td>0.259801</td>\n",
       "      <td>0.207187</td>\n",
       "      <td>1973-01-01</td>\n",
       "      <td>NaN</td>\n",
       "      <td>NaN</td>\n",
       "      <td>0.768116</td>\n",
       "      <td>12027822.0</td>\n",
       "      <td>NaN</td>\n",
       "      <td>1.0</td>\n",
       "      <td>0.2</td>\n",
       "      <td>NaN</td>\n",
       "    </tr>\n",
       "    <tr>\n",
       "      <th>2</th>\n",
       "      <td>Afghanistan</td>\n",
       "      <td>1974</td>\n",
       "      <td>6.0</td>\n",
       "      <td>AFG</td>\n",
       "      <td>4.0</td>\n",
       "      <td>2.848400e+06</td>\n",
       "      <td>1.153898e+07</td>\n",
       "      <td>-3.619600e+06</td>\n",
       "      <td>-1.651427e+07</td>\n",
       "      <td>-0.559617</td>\n",
       "      <td>-0.588676</td>\n",
       "      <td>1974-01-01</td>\n",
       "      <td>NaN</td>\n",
       "      <td>NaN</td>\n",
       "      <td>0.910773</td>\n",
       "      <td>12321541.0</td>\n",
       "      <td>NaN</td>\n",
       "      <td>0.0</td>\n",
       "      <td>0.0</td>\n",
       "      <td>NaN</td>\n",
       "    </tr>\n",
       "    <tr>\n",
       "      <th>3</th>\n",
       "      <td>Afghanistan</td>\n",
       "      <td>1975</td>\n",
       "      <td>6.0</td>\n",
       "      <td>AFG</td>\n",
       "      <td>4.0</td>\n",
       "      <td>4.298200e+06</td>\n",
       "      <td>1.577853e+07</td>\n",
       "      <td>1.449800e+06</td>\n",
       "      <td>4.239546e+06</td>\n",
       "      <td>0.508988</td>\n",
       "      <td>0.367411</td>\n",
       "      <td>1975-01-01</td>\n",
       "      <td>NaN</td>\n",
       "      <td>NaN</td>\n",
       "      <td>1.328856</td>\n",
       "      <td>12590286.0</td>\n",
       "      <td>NaN</td>\n",
       "      <td>0.0</td>\n",
       "      <td>0.0</td>\n",
       "      <td>NaN</td>\n",
       "    </tr>\n",
       "    <tr>\n",
       "      <th>4</th>\n",
       "      <td>Afghanistan</td>\n",
       "      <td>1976</td>\n",
       "      <td>6.0</td>\n",
       "      <td>AFG</td>\n",
       "      <td>4.0</td>\n",
       "      <td>1.495556e+06</td>\n",
       "      <td>5.084007e+06</td>\n",
       "      <td>-2.802644e+06</td>\n",
       "      <td>-1.069452e+07</td>\n",
       "      <td>-0.652051</td>\n",
       "      <td>-0.677789</td>\n",
       "      <td>1976-01-01</td>\n",
       "      <td>NaN</td>\n",
       "      <td>NaN</td>\n",
       "      <td>1.329180</td>\n",
       "      <td>12840299.0</td>\n",
       "      <td>NaN</td>\n",
       "      <td>0.0</td>\n",
       "      <td>0.0</td>\n",
       "      <td>5.8</td>\n",
       "    </tr>\n",
       "  </tbody>\n",
       "</table>\n",
       "</div>"
      ],
      "text/plain": [
       "       country  year  FH_value country_code  country_id  current_amount  \\\n",
       "0  Afghanistan  1972       5.0          AFG         4.0    5.134143e+06   \n",
       "1  Afghanistan  1973       6.0          AFG         4.0    6.468000e+06   \n",
       "2  Afghanistan  1974       6.0          AFG         4.0    2.848400e+06   \n",
       "3  Afghanistan  1975       6.0          AFG         4.0    4.298200e+06   \n",
       "4  Afghanistan  1976       6.0          AFG         4.0    1.495556e+06   \n",
       "\n",
       "   constant_amount  current_diff  constant_diff  current_pct_chg  \\\n",
       "0     2.323853e+07  2.363143e+06   1.010229e+07         0.852812   \n",
       "1     2.805325e+07  1.333857e+06   4.814714e+06         0.259801   \n",
       "2     1.153898e+07 -3.619600e+06  -1.651427e+07        -0.559617   \n",
       "3     1.577853e+07  1.449800e+06   4.239546e+06         0.508988   \n",
       "4     5.084007e+06 -2.802644e+06  -1.069452e+07        -0.652051   \n",
       "\n",
       "   constant_pct_chg       date  gdppc  gini       nat         pop  voice  \\\n",
       "0          0.769040 1972-01-01    NaN   NaN  0.397964  11721940.0    NaN   \n",
       "1          0.207187 1973-01-01    NaN   NaN  0.768116  12027822.0    NaN   \n",
       "2         -0.588676 1974-01-01    NaN   NaN  0.910773  12321541.0    NaN   \n",
       "3          0.367411 1975-01-01    NaN   NaN  1.328856  12590286.0    NaN   \n",
       "4         -0.677789 1976-01-01    NaN   NaN  1.329180  12840299.0    NaN   \n",
       "\n",
       "   FH_diff  FH_pct_change  FH_pct_rolling5  \n",
       "0      NaN            NaN              NaN  \n",
       "1      1.0            0.2              NaN  \n",
       "2      0.0            0.0              NaN  \n",
       "3      0.0            0.0              NaN  \n",
       "4      0.0            0.0              5.8  "
      ]
     },
     "execution_count": 35,
     "metadata": {},
     "output_type": "execute_result"
    }
   ],
   "source": [
    "# make sure not to calculate null values for FH\n",
    "FHFAWB_df = FHFAWB_df[FHFAWB_df['FH_value'].isnull() == False]\n",
    "\n",
    "# calculate diffs, pct change, and rolling mean of y2y pct change (5 years) for FH score\n",
    "FHFAWB_df['FH_diff'] = FHFAWB_df.FH_value.diff()\n",
    "FHFAWB_df['FH_pct_change'] = FHFAWB_df.FH_value.pct_change()\n",
    "FHFAWB_df = FHFAWB_df.sort_values(by=['country', 'year'])\n",
    "FHFAWB_df['FH_pct_rolling5'] = FHFAWB_df['FH_value'].rolling(5).mean()\n",
    "\n",
    "# calculate covariance for FH pct change\n",
    "FHFAWB_df.constant_pct_chg.cov(FHFAWB_df.FH_diff)\n",
    "\n",
    "%store FHFAWB_df\n",
    "\n",
    "FHFAWB_df.head()"
   ]
  },
  {
   "cell_type": "code",
   "execution_count": null,
   "metadata": {
    "collapsed": true
   },
   "outputs": [],
   "source": []
  }
 ],
 "metadata": {
  "kernelspec": {
   "display_name": "Python 3",
   "language": "python",
   "name": "python3"
  },
  "language_info": {
   "codemirror_mode": {
    "name": "ipython",
    "version": 3
   },
   "file_extension": ".py",
   "mimetype": "text/x-python",
   "name": "python",
   "nbconvert_exporter": "python",
   "pygments_lexer": "ipython3",
   "version": "3.6.2"
  }
 },
 "nbformat": 4,
 "nbformat_minor": 2
}
