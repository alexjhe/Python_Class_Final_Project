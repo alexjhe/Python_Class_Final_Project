{
 "cells": [
  {
   "cell_type": "code",
   "execution_count": 1,
   "metadata": {
    "collapsed": true
   },
   "outputs": [],
   "source": [
    "import pandas as pd\n",
    "import numpy as np\n",
    "import copy\n",
    "import itertools as itr\n",
    "import wbdata\n",
    "import pickle\n",
    "import matplotlib.pyplot as plt\n",
    "%matplotlib inline\n",
    "\n",
    "'''\n",
    "%store -r wb_codes_df\n",
    "%store -r world_1994\n",
    "%store -r wb_data_df\n",
    "%store -r world_wbdata_2016\n",
    "%store -r fips_df\n",
    "'''\n",
    "\n",
    "pd.options.display.max_columns = 150\n",
    "path = 'c:/Users/silas/MIDS/jupyternotebooks/USAID/'"
   ]
  },
  {
   "cell_type": "code",
   "execution_count": 2,
   "metadata": {
    "collapsed": true
   },
   "outputs": [],
   "source": [
    "wb_data_df = pd.read_pickle('{}wb_data_df.pickle'.format(path))\n",
    "wb_codes_df = pd.read_pickle('{}wb_codes_df.pickle'.format(path))\n",
    "fips_df= pd.read_pickle('{}fips_df.pickle'.format(path))\n",
    "df_fa = pd.read_pickle('{}df_fa.pickle'.format(path))\n",
    "fh_df = pd.read_pickle('{}fh_df.pickle'.format(path))"
   ]
  },
  {
   "cell_type": "code",
   "execution_count": 3,
   "metadata": {},
   "outputs": [
    {
     "data": {
      "text/plain": [
       "'Free (1.0 to 2.5), Partly Free (3.0 to 5.0), or Not Free (5.5 to 7.0)\\nhttps://freedomhouse.org/report/methodology-freedom-world-2017\\n'"
      ]
     },
     "execution_count": 3,
     "metadata": {},
     "output_type": "execute_result"
    }
   ],
   "source": [
    "'''FA COLUMN HEADINGS\n",
    "Index(['DateYear', 'country_id', 'country_code', 'country_name', 'region_id',\n",
    "       'region_name', 'income_group_id', 'income_group_name',\n",
    "       'income_group_acronym', 'implementing_agency_id',\n",
    "       'implementing_agency_acronym', 'implementing_agency_name',\n",
    "       'implementing_subagency_id', 'subagency_acronym', 'subagency_name',\n",
    "       'channel_category_id', 'channel_category_name',\n",
    "       'channel_subcategory_id', 'channel_subcategory_name', 'channel_id',\n",
    "       'channel_name', 'dac_category_id', 'dac_category_name',\n",
    "       'dac_sector_code', 'dac_sector_name', 'dac_purpose_code',\n",
    "       'dac_purpose_name', 'funding_account_id', 'funding_account_name',\n",
    "       'funding_agency_id', 'funding_agency_name', 'funding_agency_acronym',\n",
    "       'assistance_category_id', 'assistance_category_name',\n",
    "       'aid_type_group_id', 'aid_type_group_name', 'activity_id',\n",
    "       'activity_name', 'activity_project_number', 'activity_start_date',\n",
    "       'activity_end_date', 'transaction_type_id', 'transaction_type_name',\n",
    "       'fiscal_year', 'current_amount', 'constant_amount', 'USG_sector_id',\n",
    "       'USG_sector_name', 'framework', 'submission_id', 'numeric_year']\n",
    "'''\n",
    "\n",
    "'''Free (1.0 to 2.5), Partly Free (3.0 to 5.0), or Not Free (5.5 to 7.0)\n",
    "https://freedomhouse.org/report/methodology-freedom-world-2017\n",
    "'''"
   ]
  },
  {
   "cell_type": "markdown",
   "metadata": {},
   "source": [
    "### Freedom House dataframe preparation"
   ]
  },
  {
   "cell_type": "code",
   "execution_count": 4,
   "metadata": {
    "collapsed": true
   },
   "outputs": [],
   "source": [
    "# prepare for melt fh df so that every country has for each year its cl, pr, status\n",
    "fh_df = fh_df.T.reset_index(drop=True)\n",
    "fh_df.columns = fh_df.loc[0]\n",
    "fh_df = fh_df.drop(0)\n",
    "fh_df['Year(s) Under Review'] = fh_df['Year(s) Under Review'].ffill()"
   ]
  },
  {
   "cell_type": "code",
   "execution_count": 5,
   "metadata": {
    "collapsed": true
   },
   "outputs": [],
   "source": [
    "# corrects headers for FH dataset and prepares entries for merge with fa data\n",
    "fh_c_list = list(fh_df.columns)\n",
    "fh_c_list = [i.replace('&', 'and') for i in fh_c_list[2:]]\n",
    "fh_c_list = pd.Series(fh_c_list).str.replace('Yugoslavia (Serbia and Montenegro)', 'Serbia and Montenegro')\n",
    "fh_c_list = pd.Series(fh_c_list).str.replace(', The', '')\n",
    "fh_c_list = list(fh_c_list)\n",
    "fh_c_list.insert(0, 'FH_Score')\n",
    "fh_c_list.insert(0, 'Year')\n",
    "fh_df.columns = fh_c_list"
   ]
  },
  {
   "cell_type": "code",
   "execution_count": 6,
   "metadata": {
    "collapsed": true
   },
   "outputs": [],
   "source": [
    "# correcting year to single year note:a hack here where a single regex could work\n",
    "fh_df['new'], fh_df['newer'] = fh_df['Year'].str.split('-').str\n",
    "fh_df['new'] = fh_df['new'].str.replace(r'\\D', '')\n",
    "fh_df['Year'] = fh_df['new']\n",
    "del fh_df['new']\n",
    "del fh_df['newer']\n",
    "# correct db for overlapping year\n",
    "fh_df = fh_df.append(fh_df[27:30], ignore_index=True)"
   ]
  },
  {
   "cell_type": "code",
   "execution_count": 7,
   "metadata": {
    "collapsed": true
   },
   "outputs": [],
   "source": [
    "# create a new entry to get 1982 (because 1981 and 1982 were done in same year)\n",
    "new_Y82 = fh_df.Year[132:]\n",
    "fh_df.Year[132:] = list(map(lambda x: int(x)+1, new_Y82))"
   ]
  },
  {
   "cell_type": "code",
   "execution_count": 8,
   "metadata": {
    "collapsed": true
   },
   "outputs": [],
   "source": [
    "# bump each year up by one from '82 to '88\n",
    "new_80s = fh_df.Year[30:51]\n",
    "fh_df.Year[30:51] = list(map(lambda x: int(x)+1, new_80s))"
   ]
  },
  {
   "cell_type": "code",
   "execution_count": 9,
   "metadata": {
    "collapsed": true
   },
   "outputs": [],
   "source": [
    "fh_df.Year = fh_df.Year.astype(int)"
   ]
  },
  {
   "cell_type": "code",
   "execution_count": 10,
   "metadata": {
    "collapsed": true
   },
   "outputs": [],
   "source": [
    "fh_df = fh_df.sort_values(by='Year').reset_index(drop=True)"
   ]
  },
  {
   "cell_type": "code",
   "execution_count": 11,
   "metadata": {},
   "outputs": [],
   "source": [
    "# switches columns FH score with Year\n",
    "fh_melt = fh_df.set_index('FH_Score').reset_index()\n",
    "# melts df on fh score and year\n",
    "fh_melted = pd.melt(fh_melt, id_vars=['FH_Score', 'Year'], value_vars=list(fh_melt)[2:])\n",
    "fh_melted.rename(columns={'variable':'country', 'value':'FH_value', 'Year': 'year'}, inplace=True)\n",
    "# prep for selection\n",
    "fh_melted.FH_Score = fh_melted['FH_Score'].str.strip()\n",
    "fh_melted.FH_value = fh_melted.FH_value.str.replace(r\"\\(.*\\)\",\"\")\n",
    "fh_melted.FH_value = fh_melted.FH_value.replace('-',np.nan)\n",
    "fh_melted.FH_value = fh_melted.FH_value.str.replace('PF ','PF')"
   ]
  },
  {
   "cell_type": "code",
   "execution_count": 12,
   "metadata": {},
   "outputs": [
    {
     "data": {
      "text/plain": [
       "(27675, 4)"
      ]
     },
     "execution_count": 12,
     "metadata": {},
     "output_type": "execute_result"
    }
   ],
   "source": [
    "# original shape (207, 133)\n",
    "fh_melted.shape\n",
    "# melted shape (27675, 4)  - 207*133 == 27675"
   ]
  },
  {
   "cell_type": "markdown",
   "metadata": {},
   "source": [
    "### Foreign Aid dataframe preparation"
   ]
  },
  {
   "cell_type": "code",
   "execution_count": 13,
   "metadata": {
    "collapsed": true
   },
   "outputs": [],
   "source": [
    "# df_fa.country_name = pd.Series([d.get(e, e) for e in list(df_fa.country_name)])\n",
    "# df_fa.country_name = df_fa.country_name.str.replace(r'\\(.*', '')\n",
    "# prepare FA df for merge with FH on year\n",
    "# df_fa['index'] = df_fa.numeric_year.astype(int)\n",
    "df_fa.rename(columns={'index': 'year','country_name': 'country' }, inplace=True) \n",
    "del df_fa['numeric_year']"
   ]
  },
  {
   "cell_type": "code",
   "execution_count": 14,
   "metadata": {
    "collapsed": true
   },
   "outputs": [],
   "source": [
    "# df_fa_prep = df_fa.groupby(['country_name', 'Year'])['current_amount', 'constant_amount'].mean()"
   ]
  },
  {
   "cell_type": "markdown",
   "metadata": {},
   "source": [
    "# apply fips codes"
   ]
  },
  {
   "cell_type": "code",
   "execution_count": 15,
   "metadata": {
    "collapsed": true
   },
   "outputs": [],
   "source": [
    "# wb_codes = wbdata.api.get_country(country_id=None)"
   ]
  },
  {
   "cell_type": "code",
   "execution_count": 16,
   "metadata": {},
   "outputs": [
    {
     "data": {
      "text/html": [
       "<div>\n",
       "<style>\n",
       "    .dataframe thead tr:only-child th {\n",
       "        text-align: right;\n",
       "    }\n",
       "\n",
       "    .dataframe thead th {\n",
       "        text-align: left;\n",
       "    }\n",
       "\n",
       "    .dataframe tbody tr th {\n",
       "        vertical-align: top;\n",
       "    }\n",
       "</style>\n",
       "<table border=\"1\" class=\"dataframe\">\n",
       "  <thead>\n",
       "    <tr style=\"text-align: right;\">\n",
       "      <th></th>\n",
       "      <th>country</th>\n",
       "      <th>date</th>\n",
       "      <th>gdppc</th>\n",
       "      <th>gini</th>\n",
       "      <th>nat</th>\n",
       "      <th>pop</th>\n",
       "      <th>voice</th>\n",
       "      <th>year</th>\n",
       "    </tr>\n",
       "  </thead>\n",
       "  <tbody>\n",
       "    <tr>\n",
       "      <th>0</th>\n",
       "      <td>Afghanistan</td>\n",
       "      <td>1960-01-01</td>\n",
       "      <td>NaN</td>\n",
       "      <td>NaN</td>\n",
       "      <td>NaN</td>\n",
       "      <td>8996351.0</td>\n",
       "      <td>NaN</td>\n",
       "      <td>1960</td>\n",
       "    </tr>\n",
       "  </tbody>\n",
       "</table>\n",
       "</div>"
      ],
      "text/plain": [
       "       country       date  gdppc  gini  nat        pop  voice  year\n",
       "0  Afghanistan 1960-01-01    NaN   NaN  NaN  8996351.0    NaN  1960"
      ]
     },
     "execution_count": 16,
     "metadata": {},
     "output_type": "execute_result"
    }
   ],
   "source": [
    "fips_df.head(1)\n",
    "fh_melted.head(1)\n",
    "df_fa.head(1)\n",
    "wb_data_df.head(1)"
   ]
  },
  {
   "cell_type": "markdown",
   "metadata": {},
   "source": [
    "### a. helpers"
   ]
  },
  {
   "cell_type": "code",
   "execution_count": 17,
   "metadata": {
    "collapsed": true
   },
   "outputs": [],
   "source": [
    "def merge_dfs(dfl,dfr, i_on):\n",
    "    merged_df = dfl.merge(dfr, how='left', on=i_on)\n",
    "    print('DF shape: ', merged_df.shape)\n",
    "    return merged_df"
   ]
  },
  {
   "cell_type": "code",
   "execution_count": 54,
   "metadata": {},
   "outputs": [],
   "source": [
    "def pre_merge_dfs(df1_lst,df2_lst):\n",
    "    print('number of countries in list L: ', len(df1_lst.country.unique()))\n",
    "    print('number of years in list L: ', len(df1_lst.year.unique()))\n",
    "    print('number of countries in list R: ', len(df2_lst.country.unique()))\n",
    "    print('shape L: {}'.format(df1_lst.shape))\n",
    "    print('shape R: {}'.format(df2_lst.shape))\n",
    "    not_in = [x for x in df2_lst if x not in df1_lst]\n",
    "    num_not = len(not_in)\n",
    "    return print('{} L countries were not in merge:\\n{} '.format(num_not, not_in))"
   ]
  },
  {
   "cell_type": "markdown",
   "metadata": {},
   "source": [
    "### b. add fips to wb so that there are all fips countries on wb db"
   ]
  },
  {
   "cell_type": "code",
   "execution_count": 47,
   "metadata": {},
   "outputs": [],
   "source": [
    "# wb_data_df has 273 unique countries because it includes lending groups such as IBRD\n",
    "# years cover 1960 - 2017 = 58 years\n",
    "# 273*53 = 14469"
   ]
  },
  {
   "cell_type": "code",
   "execution_count": 20,
   "metadata": {
    "collapsed": true
   },
   "outputs": [],
   "source": [
    "fips_df.rename(columns={'ISO3166_C':'wb_code'}, inplace=True)"
   ]
  },
  {
   "cell_type": "code",
   "execution_count": 22,
   "metadata": {},
   "outputs": [
    {
     "name": "stdout",
     "output_type": "stream",
     "text": [
      "DF shape:  (15474, 9)\n"
     ]
    }
   ],
   "source": [
    "# first add all WB codes to WB data df with merge\n",
    "wb_w_wbcodes_df = merge_dfs(wb_data_df, wb_codes_df, 'country')"
   ]
  },
  {
   "cell_type": "code",
   "execution_count": 24,
   "metadata": {},
   "outputs": [
    {
     "name": "stdout",
     "output_type": "stream",
     "text": [
      "DF shape:  (15532, 15)\n"
     ]
    }
   ],
   "source": [
    "# second merge WB data df with fips df\n",
    "wb_fipscoded = merge_dfs(wb_w_wbcodes_df, fips_df, 'wb_code')"
   ]
  },
  {
   "cell_type": "code",
   "execution_count": 25,
   "metadata": {
    "collapsed": true
   },
   "outputs": [],
   "source": [
    "del wb_fipscoded['country_y']\n",
    "del wb_fipscoded['STANAG']"
   ]
  },
  {
   "cell_type": "code",
   "execution_count": 26,
   "metadata": {
    "collapsed": true
   },
   "outputs": [],
   "source": [
    "wb_fipscoded.rename(columns={'country_x':'country'}, inplace=True)"
   ]
  },
  {
   "cell_type": "code",
   "execution_count": 27,
   "metadata": {},
   "outputs": [
    {
     "data": {
      "text/plain": [
       "True"
      ]
     },
     "execution_count": 27,
     "metadata": {},
     "output_type": "execute_result"
    }
   ],
   "source": [
    "# no duplicate values\n",
    "wb_fipscoded.drop_duplicates().shape == wb_fipscoded.shape"
   ]
  },
  {
   "cell_type": "markdown",
   "metadata": {},
   "source": [
    "# fh to wb"
   ]
  },
  {
   "cell_type": "code",
   "execution_count": 28,
   "metadata": {
    "collapsed": true
   },
   "outputs": [],
   "source": [
    "chg_FH_WB = dict([('Bahamas','Bahamas, The'),\n",
    " ('Bosnia-Herzegovina','Bosnia and Herzegovina'),\n",
    " ('Brunei','Brunei Darussalam'),\n",
    " ('Cape Verde','Cabo Verde'),\n",
    " ('Congo (Brazzaville)', 'Congo, Rep.'),\n",
    " ('Congo (Kinshasa)', 'Congo, Dem. Rep.'),\n",
    " ('Egypt','Egypt, Arab Rep.'),\n",
    " ('Gambia','Gambia, The'),\n",
    " ('Iran', 'Iran, Islamic Rep.'),\n",
    " ('Kyrgyzstan','Kyrgyz Republic'),\n",
    " ('Laos','Lao PDR'),\n",
    " ('Macedonia','Macedonia, FYR'),\n",
    " ('Micronesia','Micronesia, Fed. Sts.'),\n",
    " ('North Korea','Korea, Dem. People���s Rep.'),\n",
    " ('Russia','Russian Federation'),\n",
    " ('Saint Kitts and Nevis','St. Kitts and Nevis'),\n",
    " ('Saint Lucia','St. Lucia'),\n",
    " ('Saint Vincent and Grenadines','St. Vincent and the Grenadines'),\n",
    " ('Slovakia','Slovak Republic'),\n",
    " ('South Korea','Korea, Rep.'),\n",
    " ('Syria', 'Syrian Arab Republic'),\n",
    " ('Taiwan','Taiwan, China'),\n",
    " ('Venezuela', 'Venezuela, RB'),\n",
    " ('Yemen','Yemen, Rep.')])"
   ]
  },
  {
   "cell_type": "code",
   "execution_count": 57,
   "metadata": {},
   "outputs": [
    {
     "name": "stdout",
     "output_type": "stream",
     "text": [
      "number of countries in list L:  273\n",
      "number of years in list L:  58\n",
      "number of countries in list R:  205\n",
      "shape L: (15532, 13)\n",
      "shape R: (27675, 4)\n",
      "2 L countries were not in merge:\n",
      "['FH_Score', 'FH_value'] \n"
     ]
    }
   ],
   "source": [
    "pre_merge_dfs(wb_fipscoded, fh_melted)"
   ]
  },
  {
   "cell_type": "code",
   "execution_count": 30,
   "metadata": {
    "collapsed": true
   },
   "outputs": [],
   "source": [
    "# pre_merge_dfs(fh_melted.country.unique(), wb_fipscoded.country.unique())"
   ]
  },
  {
   "cell_type": "code",
   "execution_count": 31,
   "metadata": {
    "collapsed": true
   },
   "outputs": [],
   "source": [
    "# change non-fit country names here\n",
    "fh_melted.country = pd.Series([chg_FH_WB.get(e, e) for e in list(fh_melted.country)])"
   ]
  },
  {
   "cell_type": "code",
   "execution_count": 32,
   "metadata": {},
   "outputs": [
    {
     "name": "stdout",
     "output_type": "stream",
     "text": [
      "DF shape:  (27675, 15)\n"
     ]
    }
   ],
   "source": [
    "# l merge wb into fh\n",
    "fh_w_wb_df = merge_dfs(fh_melted, wb_fipscoded,  ['country', 'year'])"
   ]
  },
  {
   "cell_type": "code",
   "execution_count": 33,
   "metadata": {
    "collapsed": true
   },
   "outputs": [],
   "source": [
    "fh_to_add_to_wb = ['Czechoslovakia',\n",
    " 'Germany, E. ',\n",
    " 'Germany, W. ',\n",
    " 'USSR',\n",
    " 'Vietnam, N.',\n",
    " 'Vietnam, S.',\n",
    " 'Yemen, N.',\n",
    " 'Yemen, S.',\n",
    " 'Yugoslavia',\n",
    " 'Yugoslavia (Serbia and Montenegro)']"
   ]
  },
  {
   "cell_type": "code",
   "execution_count": 34,
   "metadata": {},
   "outputs": [
    {
     "data": {
      "text/plain": [
       "True"
      ]
     },
     "execution_count": 34,
     "metadata": {},
     "output_type": "execute_result"
    }
   ],
   "source": [
    "fh_w_wb_df.drop_duplicates().shape == fh_w_wb_df.shape"
   ]
  },
  {
   "cell_type": "code",
   "execution_count": 35,
   "metadata": {
    "collapsed": true
   },
   "outputs": [],
   "source": [
    "with open( \"{}fh_w_wb_df.pickle\".format(path), \"wb\" ) as f:\n",
    "    pickle.dump(fh_w_wb_df, f)\n",
    "# pickle.load( open( \"{}fh_w_wb_df.pickle\".format(path), \"rb\" ) )"
   ]
  },
  {
   "cell_type": "markdown",
   "metadata": {},
   "source": [
    "# FHWB to FA"
   ]
  },
  {
   "cell_type": "code",
   "execution_count": 36,
   "metadata": {
    "collapsed": true
   },
   "outputs": [],
   "source": [
    "df_fa.rename(columns={'country_code':'wb_code', 'fiscal_year':'year'}, inplace=True)"
   ]
  },
  {
   "cell_type": "code",
   "execution_count": 37,
   "metadata": {
    "collapsed": true
   },
   "outputs": [],
   "source": [
    "df_fa.year = df_fa.year.replace('1976tq','1976').astype(int)"
   ]
  },
  {
   "cell_type": "code",
   "execution_count": 38,
   "metadata": {
    "collapsed": true
   },
   "outputs": [],
   "source": [
    "fhfawb = fh_w_wb_df.merge(df_fa, how='left', on=['wb_code', 'year'])"
   ]
  },
  {
   "cell_type": "code",
   "execution_count": 39,
   "metadata": {},
   "outputs": [],
   "source": [
    "fhfawb.rename(columns={'country_x':'country'}, inplace=True)"
   ]
  },
  {
   "cell_type": "code",
   "execution_count": 40,
   "metadata": {
    "collapsed": true
   },
   "outputs": [],
   "source": [
    "fhfawb.to_pickle(\"{}fhfawb.pickle\".format(path))"
   ]
  },
  {
   "cell_type": "code",
   "execution_count": 41,
   "metadata": {},
   "outputs": [
    {
     "data": {
      "text/plain": [
       "array(['Czechoslovakia', 'Germany, E. ', 'Germany, W. ',\n",
       "       'Korea, Dem. People���s Rep.', 'Taiwan, China', 'USSR',\n",
       "       'Vietnam, N.', 'Vietnam, S.', 'Yemen, N.', 'Yemen, S.',\n",
       "       'Yugoslavia', 'Yugoslavia (Serbia and Montenegro)'], dtype=object)"
      ]
     },
     "execution_count": 41,
     "metadata": {},
     "output_type": "execute_result"
    }
   ],
   "source": [
    "# no wb_country code\n",
    "fh_w_wb_df[fh_w_wb_df.wb_code.isnull()==True].country.unique()"
   ]
  }
 ],
 "metadata": {
  "kernelspec": {
   "display_name": "Python 3",
   "language": "python",
   "name": "python3"
  },
  "language_info": {
   "codemirror_mode": {
    "name": "ipython",
    "version": 3
   },
   "file_extension": ".py",
   "mimetype": "text/x-python",
   "name": "python",
   "nbconvert_exporter": "python",
   "pygments_lexer": "ipython3",
   "version": "3.6.2"
  }
 },
 "nbformat": 4,
 "nbformat_minor": 2
}
