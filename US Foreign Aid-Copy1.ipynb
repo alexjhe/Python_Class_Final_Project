{
 "cells": [
  {
   "cell_type": "code",
   "execution_count": 1,
   "metadata": {
    "collapsed": true
   },
   "outputs": [],
   "source": [
    "import pandas as pd\n",
    "import numpy as np\n",
    "import copy\n",
    "import itertools as itr\n",
    "import matplotlib.pyplot as plt\n",
    "%matplotlib inline\n",
    "pd.options.display.max_columns = 150"
   ]
  },
  {
   "cell_type": "code",
   "execution_count": null,
   "metadata": {
    "collapsed": true
   },
   "outputs": [],
   "source": [
    "'''COLUMN HEADINGS\n",
    "Index(['DateYear', 'country_id', 'country_code', 'country_name', 'region_id',\n",
    "       'region_name', 'income_group_id', 'income_group_name',\n",
    "       'income_group_acronym', 'implementing_agency_id',\n",
    "       'implementing_agency_acronym', 'implementing_agency_name',\n",
    "       'implementing_subagency_id', 'subagency_acronym', 'subagency_name',\n",
    "       'channel_category_id', 'channel_category_name',\n",
    "       'channel_subcategory_id', 'channel_subcategory_name', 'channel_id',\n",
    "       'channel_name', 'dac_category_id', 'dac_category_name',\n",
    "       'dac_sector_code', 'dac_sector_name', 'dac_purpose_code',\n",
    "       'dac_purpose_name', 'funding_account_id', 'funding_account_name',\n",
    "       'funding_agency_id', 'funding_agency_name', 'funding_agency_acronym',\n",
    "       'assistance_category_id', 'assistance_category_name',\n",
    "       'aid_type_group_id', 'aid_type_group_name', 'activity_id',\n",
    "       'activity_name', 'activity_project_number', 'activity_start_date',\n",
    "       'activity_end_date', 'transaction_type_id', 'transaction_type_name',\n",
    "       'fiscal_year', 'current_amount', 'constant_amount', 'USG_sector_id',\n",
    "       'USG_sector_name', 'framework', 'submission_id', 'numeric_year']\n",
    "'''\n",
    "\n",
    "r"
   ]
  },
  {
   "cell_type": "code",
   "execution_count": 5,
   "metadata": {
    "collapsed": true
   },
   "outputs": [],
   "source": [
    "data_in = pd.read_csv('us_foreign_aid_complete (1).csv', low_memory=False)"
   ]
  },
  {
   "cell_type": "code",
   "execution_count": 6,
   "metadata": {
    "collapsed": true
   },
   "outputs": [],
   "source": [
    "df = copy.copy(data_in.reset_index())"
   ]
  },
  {
   "cell_type": "code",
   "execution_count": 7,
   "metadata": {
    "collapsed": true
   },
   "outputs": [],
   "source": [
    "df['index'] = np.nan_to_num(df['numeric_year']).astype(int)"
   ]
  },
  {
   "cell_type": "code",
   "execution_count": 8,
   "metadata": {
    "collapsed": true
   },
   "outputs": [],
   "source": [
    "df['numeric_year'] = '-01-01'"
   ]
  },
  {
   "cell_type": "code",
   "execution_count": 9,
   "metadata": {
    "collapsed": true
   },
   "outputs": [],
   "source": [
    "df['index'] = df['index'].astype(str)+df['numeric_year']"
   ]
  },
  {
   "cell_type": "code",
   "execution_count": 10,
   "metadata": {
    "collapsed": true
   },
   "outputs": [],
   "source": [
    "df['index'] = pd.to_datetime(df['index'])"
   ]
  },
  {
   "cell_type": "code",
   "execution_count": 11,
   "metadata": {
    "collapsed": true
   },
   "outputs": [],
   "source": [
    "df = df.rename(columns={'index':'DateYear'})"
   ]
  },
  {
   "cell_type": "code",
   "execution_count": 12,
   "metadata": {
    "collapsed": true
   },
   "outputs": [],
   "source": [
    "#df.pivot(index='country_id',columns='country_name')\n",
    "\n",
    "df_tester = df.groupby(['country_name', 'DateYear']).current_amount.agg([sum])\n",
    "dfa = df_tester.reset_index()\n",
    "dfa = dfa.pivot(index= 'country_name', columns='DateYear', values='sum').reset_index()\n",
    "dfa.set_index('country_name', inplace=True)\n",
    "\n",
    "dfa.reset_index(inplace=True)\n",
    "\n",
    "dfa = dfa.T\n",
    "\n",
    "dfa.columns = list(dfa.loc['country_name'])\n",
    "\n",
    "dfa = dfa.drop('country_name')\n",
    "\n",
    "dfa.reset_index(inplace=True)\n",
    "\n",
    "dfa = dfa.reset_index()"
   ]
  },
  {
   "cell_type": "code",
   "execution_count": null,
   "metadata": {
    "collapsed": true
   },
   "outputs": [],
   "source": [
    "# d = df.groupby(['country_name', 'DateYear']).current_amount.agg([sum]).plot()"
   ]
  },
  {
   "cell_type": "code",
   "execution_count": null,
   "metadata": {
    "collapsed": true
   },
   "outputs": [],
   "source": [
    "# data_agg = pd.DataFrame(df.groupby(['country_name', 'DateYear']).current_amount.agg([sum]))"
   ]
  },
  {
   "cell_type": "code",
   "execution_count": null,
   "metadata": {
    "collapsed": true
   },
   "outputs": [],
   "source": [
    "with plt.style.context('Solarize_Light2'):\n",
    "    plt.figure(figsize=(12, 5))\n",
    "    plt.plot(dfa)\n",
    "    ax.xaxis_date()\n",
    "    plt.ylabel('USD Spent')\n",
    "    plt.xlabel('Year')\n",
    "    plt.yticks(list(range(8)))\n",
    "    plt.title('US Foreign Aid')\n",
    "    plt.legend(loc='lower right', shadow=True)"
   ]
  },
  {
   "cell_type": "code",
   "execution_count": null,
   "metadata": {
    "collapsed": true
   },
   "outputs": [],
   "source": [
    "# top_crimes_df = pd.DataFrame(df['Crime Category'].value_counts()[:10])\n",
    "plt.figure(1, figsize=(10, 4))\n",
    "fig, ax = plt.subplots(1)\n",
    "plt.bar(data_agg.loc['Afghanistan',:], data_agg['sum'].values)\n",
    "plt.suptitle('Stolen Art by Type')\n",
    "plt.ylabel('Number of Items')\n",
    "fig.autofmt_xdate()\n",
    "plt.show()"
   ]
  },
  {
   "cell_type": "code",
   "execution_count": null,
   "metadata": {
    "collapsed": true
   },
   "outputs": [],
   "source": []
  }
 ],
 "metadata": {
  "kernelspec": {
   "display_name": "Python 3",
   "language": "python",
   "name": "python3"
  },
  "language_info": {
   "codemirror_mode": {
    "name": "ipython",
    "version": 3
   },
   "file_extension": ".py",
   "mimetype": "text/x-python",
   "name": "python",
   "nbconvert_exporter": "python",
   "pygments_lexer": "ipython3",
   "version": "3.6.2"
  }
 },
 "nbformat": 4,
 "nbformat_minor": 2
}
