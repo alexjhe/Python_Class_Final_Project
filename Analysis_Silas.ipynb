{
 "cells": [
  {
   "cell_type": "markdown",
   "metadata": {
    "collapsed": true
   },
   "source": [
    "import geopandas as gpd\n",
    "import matplotlib.pyplot as plt\n",
    "import wbdata\n",
    "import pandas as pd\n",
    "import cartopy\n",
    "%matplotlib inline\n",
    "%store -r FHFAWB_df\n",
    "\n",
    "# world.plot(column='gdp_per_cap')\n",
    "# world.plot(column='gdp_per_cap', cmap='OrRd')\n",
    "# world.plot(column='gdp_per_cap', cmap='OrRd', scheme='quantiles')"
   ]
  },
  {
   "cell_type": "code",
   "execution_count": 178,
   "metadata": {},
   "outputs": [
    {
     "name": "stderr",
     "output_type": "stream",
     "text": [
      "WARNING:Fiona:GDAL data files not located, GDAL_DATA not set\n",
      "WARNING:Fiona:PROJ data files not located, PROJ_LIB not set\n"
     ]
    }
   ],
   "source": [
    "# import world shape file\n",
    "world_2016 = gpd.read_file(gpd.datasets.get_path('naturalearth_lowres'))\n",
    "# world = world[(world.pop_est>0) & (world.name!=\"Antarctica\")]\n",
    "world_2016['gdp_per_cap'] = round((world_2016.gdp_md_est / world_2016.pop_est)*1000000,2)"
   ]
  },
  {
   "cell_type": "code",
   "execution_count": null,
   "metadata": {
    "collapsed": true
   },
   "outputs": [],
   "source": [
    "''' for three stacked charts to corr FH with FA spending\n",
    "mon = ang\n",
    "f, (ax1, ax2, ax3) = plt.subplots(3, sharex=True, sharey=False)\n",
    "ax1.plot(mon.year, mon.FH_value)\n",
    "ax1.set_title('Angola - FH')\n",
    "ax2.plot(mon.year, mon.current_diff)\n",
    "ax2.set_title('Angola - U.S. Aid: diff')\n",
    "ax3.plot(mon.year, mon.current_amount)\n",
    "ax3.set_title('Angola - U.S. Aid: actual')\n",
    "f.subplots_adjust(hspace=.5)\n",
    "plt.setp([a.get_xticklabels() for a in f.axes[:-1]], visible=False)\n",
    "'''"
   ]
  },
  {
   "cell_type": "code",
   "execution_count": 160,
   "metadata": {},
   "outputs": [
    {
     "data": {
      "image/png": "[encoded data removed]",
      "text/plain": [
       "<matplotlib.figure.Figure at 0x2e6cdb4df98>"
      ]
     },
     "metadata": {},
     "output_type": "display_data"
    }
   ],
   "source": [
    "# wb accountability country picker\n",
    "els = wb_data_df[wb_data_df['country'] == 'El Salvador']\n",
    "mon = wb_data_df[wb_data_df['country'] == 'Mongolia']\n",
    "khm = wb_data_df[wb_data_df['country'] == 'Cambodia']\n",
    "f, (ax1, ax2, ax3) = plt.subplots(3, sharex=True, sharey=False)\n",
    "ax1.plot(mon.date, mon.nat)\n",
    "ax1.set_title('Mongolia - natural resource extraction')\n",
    "ax2.plot(mon.date, mon.voice)\n",
    "ax2.set_title('Mongolia - voice')\n",
    "ax3.plot(khm.date, mon.gdppc)\n",
    "ax3.set_title('Mongolia - GDP per capita')\n",
    "f.subplots_adjust(hspace=.5)\n",
    "plt.setp([a.get_xticklabels() for a in f.axes[:-1]], visible=False)"
   ]
  },
  {
   "cell_type": "code",
   "execution_count": 2,
   "metadata": {},
   "outputs": [
    {
     "data": {
      "text/plain": [
       "'\\nindicators = {\"NY.GDP.PCAP.PP.KD\": \"gdppc\"}\\nwb_gdp_df = wbdata.get_dataframe(indicators, convert_date=True)\\nwb_gdp_df.reset_index(inplace=True)\\n'"
      ]
     },
     "execution_count": 2,
     "metadata": {},
     "output_type": "execute_result"
    }
   ],
   "source": [
    "# gdp wb\n",
    "'''\n",
    "indicators = {\"NY.GDP.PCAP.PP.KD\": \"gdppc\"}\n",
    "wb_gdp_df = wbdata.get_dataframe(indicators, convert_date=True)\n",
    "wb_gdp_df.reset_index(inplace=True)\n",
    "'''"
   ]
  },
  {
   "cell_type": "code",
   "execution_count": 170,
   "metadata": {
    "collapsed": true
   },
   "outputs": [],
   "source": [
    "wb_data_df['year'] = wb_data_df.date.dt.year"
   ]
  },
  {
   "cell_type": "code",
   "execution_count": 174,
   "metadata": {
    "collapsed": true
   },
   "outputs": [],
   "source": [
    "wb_data_1994 = wb_data_df[wb_data_df.year == 1994]"
   ]
  }
 ],
 "metadata": {
  "kernelspec": {
   "display_name": "Python 3",
   "language": "python",
   "name": "python3"
  },
  "language_info": {
   "codemirror_mode": {
    "name": "ipython",
    "version": 3
   },
   "file_extension": ".py",
   "mimetype": "text/x-python",
   "name": "python",
   "nbconvert_exporter": "python",
   "pygments_lexer": "ipython3",
   "version": "3.6.2"
  }
 },
 "nbformat": 4,
 "nbformat_minor": 2
}
