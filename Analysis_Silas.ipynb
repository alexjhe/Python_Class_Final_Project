{
 "cells": [
  {
   "cell_type": "markdown",
   "metadata": {
    "slideshow": {
     "slide_type": "slide"
    }
   },
   "source": [
    "# W200 Final Project\n",
    "\n",
    "\n",
    "# U.S. foreign aid spending and the diffusion of democracy\n",
    "\n",
    "## ***Is U.S. foreign aid spending positively correlated with global democratic development?***\n",
    "\n",
    "- December 13, 2017"
   ]
  },
  {
   "cell_type": "markdown",
   "metadata": {
    "collapsed": true,
    "slideshow": {
     "slide_type": "skip"
    }
   },
   "source": [
    "> ## NB to nbconvert for html slides\n",
    "\n",
    ">## requires: output_toggle file which gives functionality to hide/unhide input cells while presenting\n",
    ">## from terminal use: jupyter nbconvert Analysis_Silas.ipynb --to slides --template output_toggle --post serve"
   ]
  },
  {
   "cell_type": "code",
   "execution_count": null,
   "metadata": {
    "collapsed": true,
    "scrolled": true,
    "slideshow": {
     "slide_type": "skip"
    }
   },
   "outputs": [],
   "source": [
    "import matplotlib.pyplot as plt\n",
    "import wbdata\n",
    "import pandas as pd\n",
    "import re\n",
    "import numpy as np\n",
    "from IPython.core.display import display, HTML\n",
    "\n",
    "\n",
    "%matplotlib inline\n",
    "\n",
    "path = 'c:/Users/silas/MIDS/jupyternotebooks/USAID/'\n",
    "fhfawb = pd.read_pickle('{}fhfawb.pickle'.format(path))\n",
    "\n",
    "# world.plot(column='gdp_per_cap')\n",
    "# world.plot(column='gdp_per_cap', cmap='OrRd')\n",
    "# world.plot(column='gdp_per_cap', cmap='OrRd', scheme='quantiles')"
   ]
  },
  {
   "cell_type": "code",
   "execution_count": null,
   "metadata": {
    "collapsed": true,
    "scrolled": true,
    "slideshow": {
     "slide_type": "skip"
    }
   },
   "outputs": [],
   "source": [
    "pd.options.display.max_columns = 150"
   ]
  },
  {
   "cell_type": "markdown",
   "metadata": {
    "slideshow": {
     "slide_type": "slide"
    }
   },
   "source": [
    "> # About the Data\n",
    "- U.S. Foreign Aid - https://explorer.usaid.gov/data.html\n",
    "- Freedom House - https://freedomhouse.org/report/fiw-2017-table-country-scores\n",
    "- World Bank (wbdata API) - https://wbdata.readthedocs.io/en/latest/\n",
    "- FIPS codes CIA fact book https://www.cia.gov/library/publications/the-world-factbook/appendix/appendix-d.html"
   ]
  },
  {
   "cell_type": "code",
   "execution_count": null,
   "metadata": {
    "scrolled": true,
    "slideshow": {
     "slide_type": "subslide"
    }
   },
   "outputs": [],
   "source": [
    "print('Shape after merge: {} rows {} columns'.format(fhfawb.shape[0],fhfawb.shape[1]))\n",
    "fhfawb.columns"
   ]
  },
  {
   "cell_type": "markdown",
   "metadata": {
    "slideshow": {
     "slide_type": "subslide"
    }
   },
   "source": [
    "CIVIL LIBERTIES SCORING - Freedom House (https://freedomhouse.org/report/freedom-world-2016/methodology)\n",
    "\n",
    "1 – Countries and territories with a rating of 1 enjoy a wide range of civil liberties, including freedoms of expression, assembly, association, education, and religion. They have an established and generally fair legal system that ensures the rule of law (including an independent judiciary), allow free economic activity, and tend to strive for equality of opportunity for everyone, including women and minority groups.\n",
    "\n",
    "2 – Countries and territories with a rating of 2 have slightly weaker civil liberties than those with a rating of 1 because of such factors as limits on media independence, restrictions on trade union activities, and discrimination against minority groups and women.\n",
    "\n",
    "3, 4, 5 – Countries and territories with a rating of 3, 4, or 5 either moderately protect almost all civil liberties or strongly protect some civil liberties while neglecting others. The same factors that undermine freedom in countries with a rating of 2 may also weaken civil liberties in those with a rating of 3, 4, or 5, but to a greater extent at each successive rating.\n",
    "\n",
    "6 – Countries and territories with a rating of 6 have very restricted civil liberties. They strongly limit the rights of expression and association and frequently hold political prisoners. They may allow a few civil liberties, such as some religious and social freedoms, some highly restricted private business activity, and some open and free private discussion.\n",
    "\n",
    "7 – Countries and territories with a rating of 7 have few or no civil liberties. They allow virtually no freedom of expression or association, do not protect the rights of detainees and prisoners, and often control or dominate most economic activity."
   ]
  },
  {
   "cell_type": "markdown",
   "metadata": {
    "slideshow": {
     "slide_type": "slide"
    }
   },
   "source": [
    "# Question 2: How has democratic developed globally evolved over time?\n",
    "- Overall trends in country democratic status\n",
    "- Countries within the following democratic status"
   ]
  },
  {
   "cell_type": "code",
   "execution_count": null,
   "metadata": {
    "collapsed": true,
    "scrolled": true,
    "slideshow": {
     "slide_type": "skip"
    }
   },
   "outputs": [],
   "source": [
    "# select on Civil Liberties here\n",
    "df = fhfawb[fhfawb.FH_Score == 'CL']\n",
    "\n",
    "df = df.groupby(['year','country']).agg({'FH_value':[max]}).unstack().T.reset_index()\n",
    "\n",
    "# wrangling a bit here - reset index will delete FH value\n",
    "del df['level_0']\n",
    "del df['level_1']\n",
    "\n",
    "df = df.set_index('country').T.replace('-', np.nan)\n",
    "\n",
    "df = df.apply(lambda row: row.astype(str).str.replace(r\"\\(.*\\)\",\"\"), axis=1)\n",
    "\n",
    "# float is critical to get stats going - int won't work\n",
    "df = df.astype(float, error='ignore')\n",
    "\n",
    "df.Yugoslavia = df.Yugoslavia.replace('nan',np.nan)"
   ]
  },
  {
   "cell_type": "markdown",
   "metadata": {
    "slideshow": {
     "slide_type": "subslide"
    }
   },
   "source": [
    "> A Longitudinal Perspective on Freedom in The World\n",
    "- Freedom House Data 1972 to 2016"
   ]
  },
  {
   "cell_type": "code",
   "execution_count": null,
   "metadata": {
    "scrolled": true,
    "slideshow": {
     "slide_type": "subslide"
    }
   },
   "outputs": [],
   "source": [
    "# DATAFRAME 2 - value counts by year into a single dataframe\n",
    "df2 = pd.DataFrame()\n",
    "for i in range(1972,2017):\n",
    "    df2[i] = df.T[i].value_counts()\n",
    "\n",
    "df2 = df2.reset_index().rename(columns={'index':'FH_value'})\\\n",
    ".sort_values(by='FH_value').reset_index().set_index('FH_value')\n",
    "\n",
    "df2.iloc[0:7,26:]"
   ]
  },
  {
   "cell_type": "code",
   "execution_count": null,
   "metadata": {
    "collapsed": true,
    "scrolled": true,
    "slideshow": {
     "slide_type": "skip"
    }
   },
   "outputs": [],
   "source": [
    "# df.mean().sort_values(ascending=False).plot(kind='pie', autopct='%.2f', figsize=(14,3))"
   ]
  },
  {
   "cell_type": "markdown",
   "metadata": {},
   "source": [
    "> Autocratic Systems Are Memorable but Increasingly Rare"
   ]
  },
  {
   "cell_type": "code",
   "execution_count": null,
   "metadata": {
    "scrolled": true,
    "slideshow": {
     "slide_type": "subslide"
    }
   },
   "outputs": [],
   "source": [
    "# top ten not free\n",
    "pd.DataFrame(df.mean().sort_values(ascending=False))[0].astype(int).head(10)"
   ]
  },
  {
   "cell_type": "code",
   "execution_count": null,
   "metadata": {
    "scrolled": true,
    "slideshow": {
     "slide_type": "subslide"
    }
   },
   "outputs": [],
   "source": [
    "df['mean'] = df.mean(axis=1)\n",
    "df['mean'].plot(xlim=(1972, 2015),ylim=(2, 5), figsize=(14,5), linewidth=5, colormap='RdYlGn')\n",
    "plt.title('Freedom House Index - Global Annual Mean Score', fontsize=16)\n",
    "plt.xlabel('Year')\n",
    "plt.ylabel('Freedom House Score', fontsize=16)\n",
    "plt.savefig('fh_index_global_mean.png')"
   ]
  },
  {
   "cell_type": "code",
   "execution_count": null,
   "metadata": {
    "scrolled": true,
    "slideshow": {
     "slide_type": "subslide"
    }
   },
   "outputs": [],
   "source": [
    "df.mean().hist(figsize=(14,5), grid='off', width=.35, color ='g')\n",
    "plt.title('Freedom House Index - 45 yr Mean\\n[1-Totally Free...7-Totally Not Free]', fontsize=16)\n",
    "plt.ylabel('Number of Countries', fontsize=16)\n",
    "plt.xlabel('Score')\n",
    "plt.savefig('fh_bar_mean.pdf')"
   ]
  },
  {
   "cell_type": "code",
   "execution_count": null,
   "metadata": {
    "scrolled": true,
    "slideshow": {
     "slide_type": "subslide"
    }
   },
   "outputs": [],
   "source": [
    "df2.mean(axis=1).plot(kind='pie', title='Freedom House Index\\n45 Year Avg by Score', autopct='%.2f%%', fontsize=15, figsize=(8,8),colormap='RdYlGn_r')\n",
    "plt.savefig('fh_pie_mean.png')"
   ]
  },
  {
   "cell_type": "code",
   "execution_count": null,
   "metadata": {
    "scrolled": true,
    "slideshow": {
     "slide_type": "subslide"
    }
   },
   "outputs": [],
   "source": [
    "df2.T.plot(kind='area', figsize=(15,5),title='Freedom House Index of\\nCivil Liberties by Year\\n[1=totally free...7=totally not free]', colormap='RdYlGn_r')\n",
    "plt.legend(loc='center left', bbox_to_anchor=(1.0, 0.5), title='Index Score')\n",
    "plt.xlabel('Year')\n",
    "plt.ylabel('Number of Countries')\n",
    "plt.savefig('fh_area_mean.png')"
   ]
  },
  {
   "cell_type": "code",
   "execution_count": null,
   "metadata": {
    "scrolled": true,
    "slideshow": {
     "slide_type": "subslide"
    }
   },
   "outputs": [],
   "source": [
    "# drilling into 85-15 period\n",
    "df2.T[:].plot(figsize=(14,5), title='Freedom House Index - 1985-2016', colormap='RdYlGn_r', linewidth=5)\n",
    "plt.legend(loc='center left', bbox_to_anchor=(1.0, 0.5), title='Index Score')\n",
    "plt.xlabel('Year')  \n",
    "plt.ylabel('Countries')\n",
    "plt.savefig('breakout_82_93_mean.png')"
   ]
  },
  {
   "cell_type": "markdown",
   "metadata": {
    "slideshow": {
     "slide_type": "skip"
    }
   },
   "source": [
    "- saving this for later\n",
    "bins = list(range(8))\n",
    "group_names = [str(i) for i in list(range(1,8))]\n",
    "categories = pd.cut(df['mea  n'], bins, labels=group_names)\n",
    "df['categories'] = pd.cut(df['mean'], bins, labels=group_names)\n",
    "df['scoresBinned'] = pd.cut(df['mean'], bins)\n",
    "\n",
    "pd.value_counts(df['categories']).plot(kind='pie')\n",
    "plt.legend(title= 'Scores')"
   ]
  },
  {
   "cell_type": "markdown",
   "metadata": {
    "slideshow": {
     "slide_type": "subslide"
    }
   },
   "source": [
    "> Limitations of the Research\n",
    " - key: multiple factors influence civil liberties and political rights"
   ]
  },
  {
   "cell_type": "code",
   "execution_count": null,
   "metadata": {
    "scrolled": false,
    "slideshow": {
     "slide_type": "subslide"
    }
   },
   "outputs": [],
   "source": [
    "# country picker\n",
    "df3 = fhfawb\n",
    "mon = df3[df3['country'] == 'Pakistan']\n",
    "f, (ax1, ax2, ax3) = plt.subplots(3, sharex=True, sharey=False, figsize=(10,5))\n",
    "ax1.plot(mon.date, mon.nat, color='g')\n",
    "ax1.set_title('Pakistan - Natural Resource Extraction\\nWorld Bank data')\n",
    "ax2.plot(mon.date, mon.voice, color='r')\n",
    "ax2.set_title('Pakistan - Voice\\nWorld Bank data')\n",
    "ax3.plot(mon.date, mon.gdppc, color='y')\n",
    "ax3.set_title('Pakistan - GDP per capita\\nWorld Bank data')\n",
    "f.subplots_adjust(hspace=.5)\n",
    "plt.setp([a.get_xticklabels() for a in f.axes[:-1]], visible=False)\n",
    "plt.savefig('fh_tripart_mean.png')"
   ]
  },
  {
   "cell_type": "markdown",
   "metadata": {
    "slideshow": {
     "slide_type": "slide"
    }
   },
   "source": [
    "## Question 3 - How has US foreign aid on democratic development (DRG) been spent?\n",
    "- U.S. spending on democracy, human rights and governance by democratic status\n",
    "- Totals by democratic status of recipient countries\n",
    "- By the 10 countries with longest period of within the following democratic status"
   ]
  },
  {
   "cell_type": "code",
   "execution_count": null,
   "metadata": {
    "scrolled": true,
    "slideshow": {
     "slide_type": "skip"
    }
   },
   "outputs": [],
   "source": [
    "fhfawb.head(2)"
   ]
  },
  {
   "cell_type": "markdown",
   "metadata": {
    "slideshow": {
     "slide_type": "subslide"
    }
   },
   "source": [
    "> Spending Trends by Freedom"
   ]
  },
  {
   "cell_type": "code",
   "execution_count": null,
   "metadata": {
    "scrolled": true,
    "slideshow": {
     "slide_type": "subslide"
    }
   },
   "outputs": [],
   "source": [
    "dfq3 = fhfawb[(fhfawb.FH_Score == 'CL')&(fhfawb.FH_Score == 'CL')].groupby(['year', 'FH_value'])[['constant_amount']].sum().reset_index()\n",
    "\n",
    "dfq3.FH_value = dfq3.FH_value.replace('-',np.nan).sort_values().astype(float)\n",
    "\n",
    "x = dfq3.year\n",
    "y = dfq3.FH_value\n",
    "colors = dfq3.FH_value\n",
    "areax = dfq3.constant_amount  \n",
    "area = (areax-min(areax))/(max(areax)-min(areax))*1500  # 0 to 15 point radii times 100\n",
    "plt.figure(figsize=(15, 5))\n",
    "plt.scatter(x, y, s=area,  c=colors, alpha=0.5)\n",
    "plt.xlabel('Year')\n",
    "plt.ylabel('Freedom House Country Ranking')\n",
    "plt.title('U.S. Foreign Aid\\nRelative Spending by Year by Freedhouse Score')\n",
    "plt.savefig('FA_spending_by_year.png')"
   ]
  },
  {
   "cell_type": "markdown",
   "metadata": {
    "slideshow": {
     "slide_type": "subslide"
    }
   },
   "source": [
    "> Who spends the money?"
   ]
  },
  {
   "cell_type": "code",
   "execution_count": null,
   "metadata": {
    "scrolled": true,
    "slideshow": {
     "slide_type": "subslide"
    }
   },
   "outputs": [],
   "source": [
    "Y_filt = fhfawb[(fhfawb.year > 1972)&(fhfawb.transaction_type_name == 'Disbursements')]\n",
    "s_agency_cat= Y_filt \\\n",
    ".groupby(['implementing_agency_acronym'])[['constant_amount','FH_value']].sum() \\\n",
    ".constant_amount.sort_values(ascending=False)\n",
    "explode = (.1,0,0,0,0)\n",
    "plt.figure(figsize=(8,8))\n",
    "s_agency_cat.head(5).plot(title='Spending by Agency\\nU.S. Foreign Aid 1972-2017', \\\n",
    "                           kind='pie', autopct='%1.1f%%', explode=explode, startangle=-45);\n",
    "# plt.ylabel('Percentage of Total')\n",
    "plt.savefig('spending_pie_pct.png')"
   ]
  },
  {
   "cell_type": "markdown",
   "metadata": {
    "slideshow": {
     "slide_type": "subslide"
    }
   },
   "source": [
    "> And then Who Spends the Money?"
   ]
  },
  {
   "cell_type": "code",
   "execution_count": null,
   "metadata": {
    "scrolled": true,
    "slideshow": {
     "slide_type": "subslide"
    }
   },
   "outputs": [],
   "source": [
    "CL_filt = fhfawb[(fhfawb.FH_Score == 'CL')&(fhfawb.transaction_type_name == 'Disbursements')]\n",
    "df_chan_cat= CL_filt \\\n",
    ".groupby(['channel_category_name'])[['constant_amount','FH_value']].sum()\n",
    "\n",
    "df_chan_cat = df_chan_cat.sort_values(by='constant_amount', ascending=False)\n",
    "\n",
    "df_chan_cat.constant_amount.head(10).plot(kind='bar', figsize=(10,8))\n",
    "plt.title('Spending by Channel\\nU.S. Foreign Aid 1972-2016')\n",
    "plt.ylabel('USD in Trillions', fontsize=16)\n",
    "plt.xticks(rotation=45);\n",
    "plt.savefig('spending_channel_bar.png')"
   ]
  },
  {
   "cell_type": "markdown",
   "metadata": {
    "slideshow": {
     "slide_type": "subslide"
    }
   },
   "source": [
    "> What is the Money Spent on?"
   ]
  },
  {
   "cell_type": "code",
   "execution_count": null,
   "metadata": {
    "scrolled": true,
    "slideshow": {
     "slide_type": "subslide"
    }
   },
   "outputs": [],
   "source": [
    "R_filt = fhfawb[(fhfawb.year > 1972)]\n",
    "s_agency_dac_cat = R_filt \\\n",
    ".groupby(['implementing_agency_acronym','dac_category_name'])[['constant_amount','FH_value']].sum()\n",
    "\n",
    "s_agency_dac_cat.head()\n",
    "\n",
    "pivtest = s_agency_dac_cat.reset_index()\n",
    "pt = pivtest.pivot(index='implementing_agency_acronym', columns='dac_category_name', values='constant_amount')\n",
    "pt = pt.fillna(0)\n",
    "pt.apply(lambda x: 100 * x / float(x.sum()))\n",
    "pt.plot(kind='bar', figsize=(13,8), width=1, title='Spending by DAC Category\\nU.S. Foreign Aid 1972-2017')\n",
    "plt.legend(loc='center left', bbox_to_anchor=(1.0, 0.5), title='DAC Category Names')\n",
    "plt.ylabel('Amount in USD Trillions')\n",
    "plt.xlabel('Interagency Acronym');\n",
    "plt.savefig('spending_by_dac.png')"
   ]
  },
  {
   "cell_type": "code",
   "execution_count": null,
   "metadata": {
    "slideshow": {
     "slide_type": "skip"
    }
   },
   "outputs": [],
   "source": [
    "# pie chart simple breakdown of mil econ spending\n",
    "Y_filt = fhfawb[(fhfawb.year > 1972)& (fhfawb.transaction_type_name == 'Disbursements')]\n",
    "xcorr_fh_amt = Y_filt \\\n",
    ".groupby(['assistance_category_name'])[['constant_amount','FH_value']].sum() \\\n",
    ".constant_amount.sort_values(ascending=False)\n",
    "xcorr_fh_amt.plot(kind='pie', colors= 'Rb', autopct='%1.1f%%', explode = [0,.1], fontsize=16)\n",
    "plt.ylabel(s= '% USD', fontsize=14);"
   ]
  },
  {
   "cell_type": "code",
   "execution_count": null,
   "metadata": {
    "slideshow": {
     "slide_type": "skip"
    }
   },
   "outputs": [],
   "source": [
    "# breakdown of single list of spending by dac category\n",
    "Y_filt = fhfawb[(fhfawb.year > 1972)]\n",
    "df_dac_cat= Y_filt \\\n",
    ".groupby(['dac_category_name'])[['constant_amount','FH_value']].sum()\n",
    "\n",
    "df_dac_cat.head()"
   ]
  },
  {
   "cell_type": "code",
   "execution_count": null,
   "metadata": {
    "slideshow": {
     "slide_type": "skip"
    }
   },
   "outputs": [],
   "source": [
    "# simple ranked list by dac category amount\n",
    "\n",
    "s_dac_rank = df_dac_cat.rank(ascending=False).astype(int)\n",
    "\n",
    "top_dac = pd.DataFrame(s_dac_rank)\n",
    "\n",
    "#top_dac['sector'] = s_dac_cat\n",
    "\n",
    "top_dac = top_dac.reset_index() \\\n",
    ".rename(columns={'constant_amount':'rank', 'implementing_agency_acronym': 'agency', 'agency':'constant_amount'}) \\\n",
    ".set_index('rank')\n",
    "\n",
    "top_dac = top_dac.reset_index()\n",
    "top_dac.sort_values(by='rank', ascending=True).set_index('rank')[['dac_category_name']]"
   ]
  },
  {
   "cell_type": "code",
   "execution_count": null,
   "metadata": {
    "slideshow": {
     "slide_type": "skip"
    }
   },
   "outputs": [],
   "source": [
    "# table of spending by agency and dac category\n",
    "pt.head()"
   ]
  },
  {
   "cell_type": "code",
   "execution_count": null,
   "metadata": {
    "collapsed": true,
    "scrolled": true,
    "slideshow": {
     "slide_type": "skip"
    }
   },
   "outputs": [],
   "source": [
    "Y_filt = fhfawb[(fhfawb.year > 1972)]\n",
    "df_dac_econmil_cat= Y_filt \\\n",
    ".groupby(['dac_category_name','assistance_category_name'])[['constant_amount','FH_value']].sum()\n",
    "\n",
    "\n",
    "df_dac_econmil_cat2 = df_dac_econmil_cat.sort_values(by='constant_amount', ascending=False)\n",
    "\n",
    "df_dac_econmil_cat2 = df_dac_econmil_cat2.groupby(level=0)\\\n",
    ".apply(lambda x: 100 * x / float(x.sum()))"
   ]
  },
  {
   "cell_type": "code",
   "execution_count": null,
   "metadata": {
    "slideshow": {
     "slide_type": "skip"
    }
   },
   "outputs": [],
   "source": [
    "df_dac_econmil_table = df_dac_econmil_cat2.reset_index()\\\n",
    ".pivot(index= 'dac_category_name',columns =  'assistance_category_name', values = 'constant_amount')\\\n",
    ".reset_index()\n",
    "\n",
    "df_dac_econmil_table.columns = ['dac_category_name','economic','military']\n",
    "\n",
    "df_dac_econmil_table= df_dac_econmil_table.fillna(0).sort_values(by='military',ascending=False)\n",
    "\n",
    "df_dac_econmil_table.set_index('dac_category_name').rename(columns={'economic':'pct_economic','military':'pct_military' })"
   ]
  },
  {
   "cell_type": "code",
   "execution_count": null,
   "metadata": {
    "collapsed": true
   },
   "outputs": [],
   "source": []
  },
  {
   "cell_type": "code",
   "execution_count": null,
   "metadata": {
    "slideshow": {
     "slide_type": "skip"
    }
   },
   "outputs": [],
   "source": [
    "N = 10\n",
    "Military = df_dac_econmil_table.military\n",
    "Economic = df_dac_econmil_table.economic\n",
    "\n",
    "ind = np.arange(N)    # the x locations for the groups\n",
    "width = 0.35       # the width of the bars: can also be len(x) sequence\n",
    "\n",
    "plt.figure(figsize=(10,5))\n",
    "p1 = plt.bar(ind, Military, width, color='#d62728',)\n",
    "p2 = plt.bar(ind, Economic, width,\n",
    "             bottom=Military)\n",
    "\n",
    "plt.ylabel('\\% of Budget')\n",
    "plt.title('Percent of Disbursements by Assistance Category\\nU.S. Foreign Aid 1972-2017')\n",
    "plt.xticks(ind, df_dac_econmil_table.dac_category_name, rotation=45)\n",
    "plt.yticks(np.arange(0, 110, 10))\n",
    "plt.legend((p1[0], p2[0]), ('Military', 'Economic'),\\\n",
    "           loc='center left', bbox_to_anchor=(1.0, 0.5), title='Assistance Category');"
   ]
  },
  {
   "cell_type": "code",
   "execution_count": null,
   "metadata": {
    "scrolled": true,
    "slideshow": {
     "slide_type": "subslide"
    }
   },
   "outputs": [],
   "source": [
    "Y_filt = fhfawb[(fhfawb.year > 1972)]\n",
    "df_dac_cat_econmil = Y_filt \\\n",
    ".groupby(['dac_category_name','assistance_category_name'])[['constant_amount','FH_value']].sum()\n",
    "\n",
    "df_dac2_econmil_table = df_dac_cat_econmil.reset_index()\\\n",
    ".pivot(index= 'dac_category_name',columns =  'assistance_category_name', values = 'constant_amount')\\\n",
    ".reset_index()\n",
    "\n",
    "df_dac2_econmil_table.columns = ['dac_category_name','economic','military']\n",
    "\n",
    "df_dac2_econmil_table= df_dac2_econmil_table.fillna(0).sort_values(by='military',ascending=False)\n",
    "\n",
    "N = 10\n",
    "Military = df_dac2_econmil_table.military\n",
    "Economic = df_dac2_econmil_table.economic\n",
    "\n",
    "ind = np.arange(N)    # the x locations for the groups\n",
    "width = 0.35       # the width of the bars: can also be len(x) sequence\n",
    "\n",
    "plt.figure(figsize=(10,4))\n",
    "p1 = plt.bar(ind, Military, width, color='#d62728',)\n",
    "p2 = plt.bar(ind, Economic, width,\n",
    "             bottom=Military)\n",
    "\n",
    "plt.ylabel('Amount Disbursed\\nUSD Trillions')\n",
    "plt.title('Total Disbursements by Assistance Category\\nU.S. Foreign Aid 1972-2017')\n",
    "plt.xticks(ind, df_dac2_econmil_table.dac_category_name, rotation=45)\n",
    "plt.legend((p1[0], p2[0]), ('Military', 'Economic'), loc='center left', bbox_to_anchor=(1.0, 0.5), title='Assistance Category');\n",
    "plt.savefig('spending_by_asst_cat.png')"
   ]
  },
  {
   "cell_type": "markdown",
   "metadata": {
    "slideshow": {
     "slide_type": "subslide"
    }
   },
   "source": [
    "> Top Ten Countries Aid has Been Spent in \n",
    "- 2008 -2016\n",
    "- 2000-2008\n",
    "- 1992-2000\n",
    "- 1984-1992\n"
   ]
  },
  {
   "cell_type": "code",
   "execution_count": null,
   "metadata": {
    "collapsed": true,
    "scrolled": true,
    "slideshow": {
     "slide_type": "skip"
    }
   },
   "outputs": [],
   "source": [
    "# 2008 -2016\n",
    "m_filt = fhfawb[(fhfawb.year <= 2016) & (fhfawb.year >= 2008) & (fhfawb.transaction_type_name == 'Disbursements')]"
   ]
  },
  {
   "cell_type": "code",
   "execution_count": null,
   "metadata": {
    "slideshow": {
     "slide_type": "skip"
    }
   },
   "outputs": [],
   "source": [
    "m_filt.groupby(['country'])[['constant_amount']].sum().sort_values(by='constant_amount', ascending=False).head(10)"
   ]
  },
  {
   "cell_type": "code",
   "execution_count": null,
   "metadata": {
    "collapsed": true,
    "scrolled": true,
    "slideshow": {
     "slide_type": "skip"
    }
   },
   "outputs": [],
   "source": [
    "# 2000 -2008\n",
    "m_filt = fhfawb[(fhfawb.year <= 2008) & (fhfawb.year >= 2000) & (fhfawb.transaction_type_name == 'Disbursements')]"
   ]
  },
  {
   "cell_type": "code",
   "execution_count": null,
   "metadata": {
    "slideshow": {
     "slide_type": "skip"
    }
   },
   "outputs": [],
   "source": [
    "m_filt.groupby(['country'])[['constant_amount']].sum().sort_values(by='constant_amount', ascending=False).head(10)"
   ]
  },
  {
   "cell_type": "code",
   "execution_count": null,
   "metadata": {
    "slideshow": {
     "slide_type": "skip"
    }
   },
   "outputs": [],
   "source": [
    "# 2000 -2008\n",
    "m_filt = fhfawb[(fhfawb.year <= 2000) & (fhfawb.year >= 1992)]\n",
    "\n",
    "m_filt.groupby(['country'])[['constant_amount']].sum().sort_values(by='constant_amount', ascending=False).head(10)"
   ]
  },
  {
   "cell_type": "code",
   "execution_count": null,
   "metadata": {
    "slideshow": {
     "slide_type": "skip"
    }
   },
   "outputs": [],
   "source": [
    "# 1984 -1992\n",
    "m_filt = fhfawb[(fhfawb.year <= 1992) & (fhfawb.year >= 1984)]\n",
    "\n",
    "m_filt.groupby(['country'])[['constant_amount']].sum().sort_values(by='constant_amount', ascending=False).head(10).rank(ascending=False)"
   ]
  },
  {
   "cell_type": "code",
   "execution_count": null,
   "metadata": {
    "scrolled": true,
    "slideshow": {
     "slide_type": "skip"
    }
   },
   "outputs": [],
   "source": [
    "'''\n",
    "def percConvert(ser):\n",
    "    return ser/float(ser[-1])\n",
    "pd.crosstab(data[\"Credit_History\"],data[\"Loan_Status\"],margins=True).apply(percConvert, axis=1)\n",
    "'''"
   ]
  },
  {
   "cell_type": "code",
   "execution_count": null,
   "metadata": {
    "scrolled": true,
    "slideshow": {
     "slide_type": "skip"
    }
   },
   "outputs": [],
   "source": [
    "c_by_FH_catsY = c_by_FH_catsY.groupby(level=0).apply(lambda x: 100 * x / float(x.sum()))"
   ]
  },
  {
   "cell_type": "markdown",
   "metadata": {
    "slideshow": {
     "slide_type": "skip"
    }
   },
   "source": [
    "> Breakdown of spending by agency post 1972\n",
    "- top ten\n",
    "- overall stats"
   ]
  },
  {
   "cell_type": "code",
   "execution_count": null,
   "metadata": {
    "collapsed": true,
    "scrolled": true,
    "slideshow": {
     "slide_type": "skip"
    }
   },
   "outputs": [],
   "source": [
    "Y_filt = fhfawb[(fhfawb.year > 1972)&(fhfawb.transaction_type_name == 'Disbursements')]\n",
    "s_dac_cat= Y_filt \\\n",
    ".groupby(['dac_category_name'])[['constant_amount','FH_value']].sum() \\\n",
    ".constant_amount.sort_values(ascending=False)\n",
    "s_dac_cat.head(10)"
   ]
  },
  {
   "cell_type": "markdown",
   "metadata": {
    "slideshow": {
     "slide_type": "skip"
    }
   },
   "source": [
    "> Top ten sectors by disbursements (DAC sectors applied)"
   ]
  },
  {
   "cell_type": "code",
   "execution_count": null,
   "metadata": {
    "collapsed": true,
    "scrolled": true,
    "slideshow": {
     "slide_type": "skip"
    }
   },
   "outputs": [],
   "source": [
    "Y_filt = fhfawb[(fhfawb.year > 1972)& (fhfawb.transaction_type_name == 'Disbursements') ]\n",
    "s_dac_cat= Y_filt \\\n",
    ".groupby(['dac_sector_name'])[['constant_amount','FH_value']].sum() \\\n",
    ".constant_amount.sort_values(ascending=False)\n",
    "s_dac_cat.head(10)"
   ]
  },
  {
   "cell_type": "markdown",
   "metadata": {
    "slideshow": {
     "slide_type": "slide"
    }
   },
   "source": [
    "# Question - 4 Purpose: Does Aid Lead to Democratic Outcomes?\n",
    "- general\n",
    "- country specific"
   ]
  },
  {
   "cell_type": "markdown",
   "metadata": {
    "slideshow": {
     "slide_type": "skip"
    }
   },
   "source": [
    "> Amount of spending by country and FH score"
   ]
  },
  {
   "cell_type": "code",
   "execution_count": null,
   "metadata": {
    "scrolled": true,
    "slideshow": {
     "slide_type": "skip"
    }
   },
   "outputs": [],
   "source": [
    "Y_filt = fhfawb[(fhfawb.year > 1971)& (fhfawb.FH_Score =='CL')& (fhfawb.transaction_type_name == 'Disbursements') ]\n",
    "c_fhval_cat= Y_filt \\\n",
    ".groupby(['country','FH_value'])[['constant_amount']].agg({'sum'})\n",
    "c_fhval_cat.head(10)\n",
    "\n",
    "c_fhval_cat_pct = c_fhval_cat.groupby(level=0).apply(lambda x: 100 * x / float(x.sum()))\n",
    "\n",
    "c_fhval_cat_pct.head()"
   ]
  },
  {
   "cell_type": "markdown",
   "metadata": {
    "slideshow": {
     "slide_type": "subslide"
    }
   },
   "source": [
    "> years a country was in a particular FH category"
   ]
  },
  {
   "cell_type": "code",
   "execution_count": null,
   "metadata": {
    "slideshow": {
     "slide_type": "skip"
    }
   },
   "outputs": [],
   "source": [
    "c_by_FH_catsY = Y_filt.groupby(['year','country','FH_value'])['FH_Score'].count().reset_index()\\\n",
    ".groupby(['country','FH_value'])['FH_Score'].count()\n",
    "\n",
    "# c_fhval_cat.groupby(level=0).apply(lambda x: 100 * x / float(x.sum())).max(level=0)\n",
    "c_by_FH_catsY = c_by_FH_catsY.groupby(level=0).apply(lambda x: 100 * x / float(x.sum()))\n",
    "\n",
    "c_by_FH_catsY.head(20)\n",
    "\n",
    "c_fhval_cat.reset_index(inplace=True)\n",
    "c_fhval_cat_pct.reset_index(inplace=True)\n",
    "# c_by_FH_catsY\n",
    "\n",
    "c_fhval_cat_pct['FH_years'] = c_by_FH_catsY.reset_index().rename(columns={'FH_Score': 'FH_years'}).FH_years\n",
    "\n",
    "c_fhval_cat_pct['FH_cons_amt'] = c_fhval_cat.reset_index().constant_amount['sum']\n",
    "\n",
    "c_fhval_cat_pct.columns = ['country', 'FH_value', 'pct_cons_amt_FH_cat', 'pct_yrs_in_FH_cat', 'cons_amt_by_cat']\n",
    "\n",
    "fh_val_const =  c_fhval_cat_pct[['country', 'FH_value', 'pct_yrs_in_FH_cat', 'cons_amt_by_cat', 'pct_cons_amt_FH_cat']]\n",
    "\n",
    "fh_val_const.FH_value = fh_val_const.FH_value.astype(float)\n",
    "\n",
    "fh_val_const.sort_values(by='country', inplace=True)\n",
    "\n",
    "fh_val_const.head()\n",
    "\n",
    "# fh_val_const['ratio_consamt_yrsFH'] = fh_val_const['pct_cons_amt_FH_cat']/fh_val_const['pct_yrs_in_FH_cat']"
   ]
  },
  {
   "cell_type": "markdown",
   "metadata": {
    "slideshow": {
     "slide_type": "subslide"
    }
   },
   "source": [
    "> Country volatility and spending"
   ]
  },
  {
   "cell_type": "code",
   "execution_count": null,
   "metadata": {
    "scrolled": true,
    "slideshow": {
     "slide_type": "subslide"
    }
   },
   "outputs": [],
   "source": [
    "check = fhfawb[(fhfawb.FH_Score == 'CL')& (fhfawb.year >= 2001)  & (fhfawb.year <= 2006)].groupby(['country', 'FH_value'])[['FH_value']].count()\n",
    "\n",
    "check.columns = [['FH_values']]\n",
    "\n",
    "check.reset_index().groupby('country')[['FH_value']].count() \\\n",
    ".rename(columns={'FH_value':'FH_cat_range'}).hist(grid='False', width=.35)\n",
    "plt.xlabel('Freedom House Category')\n",
    "plt.ylabel('Number of Countries')\n",
    "plt.title('Historic Volatility\\nFreedom House 1972-2017',fontsize=16);\n",
    "plt.savefig('hist_volatility.png')"
   ]
  },
  {
   "cell_type": "code",
   "execution_count": null,
   "metadata": {
    "collapsed": true,
    "slideshow": {
     "slide_type": "subslide"
    }
   },
   "outputs": [],
   "source": [
    "check = check.reset_index().groupby('country')[['FH_value']].count().rename(columns={'FH_value':'FH_cat_volatility'})\n",
    "check.head()\n",
    "\n",
    "# this is the table for the histogram above\n",
    "check_table = check.groupby('FH_cat_volatility')[['FH_cat_volatility']].count()\n",
    "\n",
    "check = check.reset_index().sort_values(by='FH_cat_volatility',ascending=False)\n"
   ]
  },
  {
   "cell_type": "code",
   "execution_count": null,
   "metadata": {
    "collapsed": true
   },
   "outputs": [],
   "source": [
    "ck = check.set_index('country')\n",
    "ck[ck.FH_cat_volatility == 3].sample(10).reset_index().sort_values(by='country').set_index('country')"
   ]
  },
  {
   "cell_type": "markdown",
   "metadata": {
    "slideshow": {
     "slide_type": "subslide"
    }
   },
   "source": [
    "> Historic Volatility and Spending"
   ]
  },
  {
   "cell_type": "code",
   "execution_count": null,
   "metadata": {
    "scrolled": true,
    "slideshow": {
     "slide_type": "subslide"
    }
   },
   "outputs": [],
   "source": [
    "vol_spend = fhfawb[(fhfawb.FH_Score == 'CL') & (fhfawb.transaction_type_name == 'Disbursements')].groupby(['country'])[['constant_amount']].sum()\n",
    "\n",
    "amt_volit = fhfawb[(fhfawb.FH_Score == 'CL')& (fhfawb.year >= 1987)  & (fhfawb.year <= 1991)]\\\n",
    ".groupby(['country', 'FH_value'])[['FH_value']].count()\n",
    "\n",
    "amt_volit.columns = [['FH_values']]\n",
    "amt_volit = amt_volit.reset_index().groupby('country')[['FH_value']].count().rename(columns={'FH_value':'FH_cat_volatility'})\n",
    "amt_volit.head()\n",
    "\n",
    "# this is the table for the histogram above\n",
    "amt_volit_table = amt_volit.groupby('FH_cat_volatility')[['FH_cat_volatility']].count()\n",
    "\n",
    "amt_volit = amt_volit.reset_index().sort_values(by='FH_cat_volatility',ascending=False)\n",
    "\n",
    "vol_spend = vol_spend.reset_index().sort_values(by='country')\n",
    "\n",
    "vol_spend = vol_spend.merge(amt_volit, how='left', on='country').sort_values(by='FH_cat_volatility', ascending=False)\n",
    "\n",
    "\n",
    "vol_spend.FH_cat_volatility = vol_spend.FH_cat_volatility.astype('category')\n",
    "\n",
    "vol_spend_cht = vol_spend.groupby(['FH_cat_volatility'])[['constant_amount']].sum()\n",
    "vol_spend_cht.plot(kind='bar', figsize=(8,4), legend=None)\n",
    "plt.title('Volatility vs Disbursements\\nU.S. Foreign Aid 1972-2017\\n[volatility = number of times a country changed Freedome House status]', fontsize=16)\n",
    "plt.xlabel('Volatility',fontsize=12)\n",
    "plt.ylabel('Disbursements in USD Trillions', fontsize=10);\n",
    "plt.savefig('hist_volatility_disp.png')"
   ]
  },
  {
   "cell_type": "code",
   "execution_count": null,
   "metadata": {
    "collapsed": true,
    "scrolled": true,
    "slideshow": {
     "slide_type": "subslide"
    }
   },
   "outputs": [],
   "source": [
    "vol_spend_bub = vol_spend.groupby('FH_cat_volatility').sum().reset_index()\n",
    "vol_spend_bub['countries'] = vol_spend.groupby('FH_cat_volatility').count().reset_index().country\n",
    "x=vol_spend_bub['countries']\n",
    "y=vol_spend_bub['FH_cat_volatility']\n",
    "s=vol_spend_bub['constant_amount']/100000000\n",
    "plt.figure(figsize=(8,6))\n",
    "plt.scatter(x,y,s=s, c='r')\n",
    "plt.title('Volatility vs Disbursements\\nU.S. Foreign Aid 1972-2017',fontsize=16)\n",
    "plt.ylabel('volatility', fontsize=12)\n",
    "plt.xlabel('number of countries', fontsize=12);\n",
    "plt.savefig('hist_volatility_bub.png')"
   ]
  },
  {
   "cell_type": "code",
   "execution_count": null,
   "metadata": {
    "collapsed": true,
    "scrolled": true,
    "slideshow": {
     "slide_type": "skip"
    }
   },
   "outputs": [],
   "source": [
    "Y_filt = fhfawb[(fhfawb.year > 1972)& (fhfawb.FH_Score == 'CL')& (fhfawb.transaction_type_name == 'Disbursements')]\n",
    "\n",
    "Y_filt.FH_value = Y_filt.FH_value.astype(float)\n",
    "\n",
    "diff_s = Y_filt.groupby(['country', 'year'])['FH_value','constant_amount'].mean()\n",
    "\n",
    "# this is where the diff is calculated\n",
    "diff_s = diff_s.groupby(level=0).diff()\n",
    "\n",
    "diff_s.reset_index(inplace=True)\n",
    "diff_s['year'] = pd.to_datetime(diff_s.reset_index().year,format='%Y')"
   ]
  },
  {
   "cell_type": "markdown",
   "metadata": {
    "slideshow": {
     "slide_type": "subslide"
    }
   },
   "source": [
    "> Correlation between Change in Freedom Score and USD Spending\n",
    "- Insignificant in general"
   ]
  },
  {
   "cell_type": "code",
   "execution_count": null,
   "metadata": {
    "collapsed": true,
    "scrolled": true,
    "slideshow": {
     "slide_type": "subslide"
    }
   },
   "outputs": [],
   "source": [
    "diff_s.corr()\n"
   ]
  },
  {
   "cell_type": "markdown",
   "metadata": {
    "slideshow": {
     "slide_type": "subslide"
    }
   },
   "source": [
    "> Correlation between Change in Freedom Score and USD Spending\n",
    "- At a Country Level in Volatile Countries\n",
    "- Examples"
   ]
  },
  {
   "cell_type": "code",
   "execution_count": null,
   "metadata": {
    "collapsed": true,
    "scrolled": true,
    "slideshow": {
     "slide_type": "subslide"
    }
   },
   "outputs": [],
   "source": [
    "COUNTRY_NAME = 'Afghanistan'\n",
    "\n",
    "diff_s_af = diff_s\n",
    "diff_s_af = diff_s[diff_s.country == COUNTRY_NAME]\n",
    "fig, ax1 = plt.subplots(figsize=(13,5))\n",
    "t = diff_s_af.year\n",
    "s1 = diff_s_af.constant_amount\n",
    "ax1.plot(t, s1, 'b', linewidth=3.0)\n",
    "ax1.set_xlabel('year')\n",
    "# Make the y-axis label, ticks and tick labels match the line color.\n",
    "ax1.set_ylabel('Change in Spending YOY', color='b', fontsize=16)\n",
    "ax1.tick_params('y', colors='b')\n",
    "\n",
    "ax2 = ax1.twinx()\n",
    "s2 = diff_s_af.FH_value\n",
    "ax2.plot(t, s2, 'r', linewidth=3.0)\n",
    "ax2.set_ylabel('Change in Freedom House Score\\n[note:negative score == increased freedom]', color='r', fontsize=16)\n",
    "ax2.tick_params('y', colors='r')\n",
    "fig.savefig('test.jpg')\n",
    "plt.title('Spending vs Change\\n{}\\nFreedom House 2001 - 2017'.format(COUNTRY_NAME), color='k', fontsize=16);\n",
    "plt.savefig('{}.png'.format(COUNTRY_NAME))"
   ]
  },
  {
   "cell_type": "code",
   "execution_count": null,
   "metadata": {
    "collapsed": true,
    "scrolled": true,
    "slideshow": {
     "slide_type": "subslide"
    }
   },
   "outputs": [],
   "source": [
    "COUNTRY_NAME = 'Iraq'\n",
    "\n",
    "diff_s_af = diff_s\n",
    "diff_s_af = diff_s[diff_s.country == COUNTRY_NAME]\n",
    "fig, ax1 = plt.subplots(figsize=(13,5))\n",
    "t = diff_s_af.year\n",
    "s1 = diff_s_af.constant_amount\n",
    "ax1.plot(t, s1, 'b', linewidth=3.0)\n",
    "ax1.set_xlabel('year')\n",
    "# Make the y-axis label, ticks and tick labels match the line color.\n",
    "ax1.set_ylabel('Change in Spending YOY', color='b', fontsize=16)\n",
    "ax1.tick_params('y', colors='b')\n",
    "\n",
    "ax2 = ax1.twinx()\n",
    "s2 = diff_s_af.FH_value\n",
    "ax2.plot(t, s2, 'r', linewidth=3.0)\n",
    "ax2.set_ylabel('Change in Freedom House Score', color='r', fontsize=16)\n",
    "ax2.tick_params('y', colors='r')\n",
    "fig.savefig('test.jpg')\n",
    "plt.title('Spending vs Change\\n{}\\nFreedom House 2001 - 2017'.format(COUNTRY_NAME), color='k', fontsize=16);\n",
    "plt.savefig('{}.png'.format(COUNTRY_NAME))"
   ]
  },
  {
   "cell_type": "code",
   "execution_count": null,
   "metadata": {
    "collapsed": true
   },
   "outputs": [],
   "source": [
    "COUNTRY_NAME = 'Egypt'\n",
    "\n",
    "diff_s_af = diff_s\n",
    "diff_s_af = diff_s[diff_s.country == COUNTRY_NAME]\n",
    "fig, ax1 = plt.subplots(figsize=(13,5))\n",
    "t = diff_s_af.year\n",
    "s1 = diff_s_af.constant_amount\n",
    "ax1.plot(t, s1, 'b', linewidth=3.0)\n",
    "ax1.set_xlabel('year')\n",
    "# Make the y-axis label, ticks and tick labels match the line color.\n",
    "ax1.set_ylabel('Change in Spending YOY', color='b', fontsize=16)\n",
    "ax1.tick_params('y', colors='b')\n",
    "\n",
    "ax2 = ax1.twinx()\n",
    "s2 = diff_s_af.FH_value\n",
    "ax2.plot(t, s2, 'r', linewidth=3.0)\n",
    "ax2.set_ylabel('Change in Freedom House Score', color='r', fontsize=16)\n",
    "ax2.tick_params('y', colors='r')\n",
    "fig.savefig('test.jpg')\n",
    "plt.title('Spending vs Change\\n{}\\nFreedom House 2001 - 2017'.format(COUNTRY_NAME), color='k', fontsize=16);\n",
    "plt.savefig('{}.png'.format(COUNTRY_NAME))"
   ]
  },
  {
   "cell_type": "code",
   "execution_count": null,
   "metadata": {
    "collapsed": true,
    "scrolled": true,
    "slideshow": {
     "slide_type": "skip"
    }
   },
   "outputs": [],
   "source": [
    "'''\n",
    "def percConvert(ser):\n",
    "    return ser/float(ser[-1])\n",
    "pd.crosstab(diff_s[\"FH_value\"],diff_s[\"constant_amount\"],margins=True).apply(percConvert, axis=1)\n",
    "'''"
   ]
  },
  {
   "cell_type": "code",
   "execution_count": null,
   "metadata": {
    "collapsed": true,
    "scrolled": true,
    "slideshow": {
     "slide_type": "skip"
    }
   },
   "outputs": [],
   "source": [
    "big_piv = pd.pivot_table(diff_s, values=['FH_value', 'constant_amount'], index=['year'], columns=['country'],\\\n",
    "               aggfunc={'constant_amount':np.sum, 'FH_value': np.sum}, fill_value=0)\n"
   ]
  },
  {
   "cell_type": "code",
   "execution_count": null,
   "metadata": {
    "collapsed": true,
    "scrolled": true,
    "slideshow": {
     "slide_type": "skip"
    }
   },
   "outputs": [],
   "source": [
    "#  np.diff(t) / np.abs(t[:-1]) * 100"
   ]
  },
  {
   "cell_type": "code",
   "execution_count": null,
   "metadata": {
    "collapsed": true,
    "scrolled": true,
    "slideshow": {
     "slide_type": "skip"
    }
   },
   "outputs": [],
   "source": [
    "'''\n",
    "np.random.seed(0)\n",
    "x = diff_s.FH_value\n",
    "y = diff_s.year\n",
    "# x, y = np.random.randn(2, 100)\n",
    "fig = plt.figure()\n",
    "ax1 = fig.add_subplot(211)\n",
    "ax1.xcorr(x, y, usevlines=True, maxlags=50, normed=True, lw=2)\n",
    "ax1.grid(True)\n",
    "ax1.axhline(0, color='black', lw=2)\n",
    "\n",
    "ax2 = fig.add_subplot(212, sharex=ax1)\n",
    "ax2.acorr(x, usevlines=True, normed=True, maxlags=50, lw=2)\n",
    "ax2.grid(True)\n",
    "ax2.axhline(0, color='black', lw=2)\n",
    "'''"
   ]
  },
  {
   "cell_type": "code",
   "execution_count": null,
   "metadata": {
    "collapsed": true,
    "scrolled": true,
    "slideshow": {
     "slide_type": "skip"
    }
   },
   "outputs": [],
   "source": [
    "not_free = fh_CL_df[(fh_CL_df['FH_value'] == 6.0)|(fh_CL_df['FH_value'] == 7.0)]\n",
    "not_free = not_free.groupby('Year').count()\n",
    "del not_free['FH_value']\n",
    "not_free.rename(columns={'country_name': 'country_count'}, inplace=True)\n",
    "\n",
    "free = fh_CL_df[(fh_CL_df['FH_value'] == 1.0)|(fh_CL_df['FH_value'] == 2.0)]\n",
    "free = free.groupby('Year').count()\n",
    "free.rename(columns={'country_name':'country_count'}, inplace=True)\n",
    "\n",
    "partly_free = fh_CL_df[(fh_CL_df['FH_value'] == 3.0)|(fh_CL_df['FH_value'] == 4.0)|(fh_CL_df['FH_value'] == 5.0)]\n",
    "partly_free = partly_free.groupby('Year').count()\n",
    "partly_free.rename(columns={'country_name':'country_count'}, inplace=True)\n",
    "\n",
    "width = .3\n",
    "fig = plt.figure(figsize=(14,5))\n",
    "ax = fig.add_subplot(111)\n",
    "rects1 = ax.bar(free.index, not_free['country_count'], width, color='r')\n",
    "rects2 = ax.bar(free.index+width, free['country_count'], width, color='b')\n",
    "# rects3 = ax.bar(free.index+width+.5, partly_free['country_count'], width, color='b')\n",
    "\n",
    "# add some\n",
    "ax.set_ylabel('Countries')\n",
    "ax.set_xlabel('Years')\n",
    "ax.set_title('Not Free vs. Free\\nFreedom House')\n",
    "\n",
    "ax.legend((rects1[0], rects2[0]), ('Not Free', 'Free'));"
   ]
  },
  {
   "cell_type": "code",
   "execution_count": null,
   "metadata": {
    "collapsed": true,
    "scrolled": true,
    "slideshow": {
     "slide_type": "skip"
    }
   },
   "outputs": [],
   "source": [
    "fhfawb.head()"
   ]
  },
  {
   "cell_type": "markdown",
   "metadata": {
    "slideshow": {
     "slide_type": "skip"
    }
   },
   "source": [
    "# For additional calcs"
   ]
  },
  {
   "cell_type": "code",
   "execution_count": null,
   "metadata": {
    "collapsed": true,
    "scrolled": true,
    "slideshow": {
     "slide_type": "skip"
    }
   },
   "outputs": [],
   "source": [
    "# make sure not to calculate null values for FH\n",
    "FHFAWB_df = FHFAWB_df[FHFAWB_df['FH_value'].isnull() == False]\n",
    "\n",
    "# calculate diffs, pct change, and rolling mean of y2y pct change (5 years) for FH score\n",
    "FHFAWB_df['FH_diff'] = FHFAWB_df.FH_value.diff()\n",
    "FHFAWB_df['FH_pct_change'] = FHFAWB_df.FH_value.pct_change()\n",
    "FHFAWB_df = FHFAWB_df.sort_values(by=['country', 'year'])\n",
    "FHFAWB_df['FH_pct_rolling5'] = FHFAWB_df['FH_value'].rolling(5).mean()\n",
    "\n",
    "# calculate covariance for FH pct change\n",
    "FHFAWB_df.constant_pct_chg.cov(FHFAWB_df.FH_diff)\n",
    "\n",
    "%store FHFAWB_df\n",
    "\n",
    "FHFAWB_df.head()"
   ]
  },
  {
   "cell_type": "code",
   "execution_count": null,
   "metadata": {
    "collapsed": true,
    "scrolled": true,
    "slideshow": {
     "slide_type": "skip"
    }
   },
   "outputs": [],
   "source": [
    "# select feature (here its amounts), reduce(agg years), select/add FH score\n",
    "df_fa_prep = df_fa.groupby(['country', 'year','country_code', 'country_id'])['current_amount', 'constant_amount'].mean()\n",
    "df_fa_prep['current_diff'] = df_fa_prep.current_amount.diff()\n",
    "df_fa_prep['constant_diff'] = df_fa_prep.constant_amount.diff()\n",
    "df_fa_prep['current_pct_chg'] = df_fa_prep.current_amount.pct_change()\n",
    "df_fa_prep['constant_pct_chg'] = df_fa_prep.constant_amount.pct_change()\n",
    "df_fa_prep.reset_index(inplace=True)\n",
    "df_fa_prep.rename(columns={'country_name':'country'}, inplace=True)\n",
    "%store df_fa_prep"
   ]
  },
  {
   "cell_type": "code",
   "execution_count": null,
   "metadata": {
    "collapsed": true,
    "scrolled": true,
    "slideshow": {
     "slide_type": "skip"
    }
   },
   "outputs": [],
   "source": [
    "# country case picker\n",
    "fhfawb[(fhfawb.year > 1979 ) & (fhfawb.year < 1993 ) & (fhfawb.country == 'Argentina')]\\\n",
    ".sort_values(by='current_amount', ascending=False).plot(x='year', y='current_amount', kind='scatter')\n",
    "\n",
    "# browser for FH == 2\n",
    "fhfawb[(fhfawb.year > 1979 ) & (fhfawb.year < 1993 ) & (fhfawb.FH_value == 2.0)]\\\n",
    ".sort_values(by='current_amount', ascending=False)\n",
    "\n",
    "# FH CL 3 countries '93 to '99\n",
    "fhfawb[(fhfawb.year > 1993 ) & (fhfawb.year < 1999 ) & (fhfawb.FH_value == 6.0)].country.unique()\n",
    "\n",
    "# country case picker\n",
    "fhfawb[(fhfawb.year > 1993 ) & (fhfawb.year < 1999 ) & (fhfawb.country == 'Peru')]\\\n",
    ".sort_values(by='current_amount', ascending=False).plot(x='year', y='constant_amount', kind='scatter')\n",
    "\n",
    "fhfawb[(fhfawb.year > 1993 ) & (fhfawb.year < 1999 ) & (fhfawb.FH_value == 3.0)]\\\n",
    ".sort_values(by='constant_amount', ascending=False)[:20]\n"
   ]
  },
  {
   "cell_type": "code",
   "execution_count": null,
   "metadata": {
    "collapsed": true,
    "scrolled": true,
    "slideshow": {
     "slide_type": "skip"
    }
   },
   "outputs": [],
   "source": [
    "'''\n",
    "Cheatsheet_________________________________\n",
    "Function\tDescription\n",
    "count\tNumber of non-null observations\n",
    "sum\tSum of values\n",
    "mean\tMean of values\n",
    "mad\tMean absolute deviation\n",
    "median\tArithmetic median of values\n",
    "min\tMinimum\n",
    "max\tMaximum\n",
    "mode\tMode\n",
    "abs\tAbsolute Value\n",
    "prod\tProduct of values\n",
    "std\tUnbiased standard deviation\n",
    "var\tUnbiased variance\n",
    "sem\tUnbiased standard error of the mean\n",
    "skew\tUnbiased skewness (3rd moment)\n",
    "kurt\tUnbiased kurtosis (4th moment)\n",
    "quantile\tSample quantile (value at %)\n",
    "cumsum\tCumulative sum\n",
    "cumprod\tCumulative product\n",
    "cummax\tCumulative maximum\n",
    "cummin\tCumulative minimum\n",
    "'''"
   ]
  }
 ],
 "metadata": {
  "celltoolbar": "Slideshow",
  "kernelspec": {
   "display_name": "Python 3",
   "language": "python",
   "name": "python3"
  },
  "language_info": {
   "codemirror_mode": {
    "name": "ipython",
    "version": 3
   },
   "file_extension": ".py",
   "mimetype": "text/x-python",
   "name": "python",
   "nbconvert_exporter": "python",
   "pygments_lexer": "ipython3",
   "version": "3.6.2"
  }
 },
 "nbformat": 4,
 "nbformat_minor": 2
}
