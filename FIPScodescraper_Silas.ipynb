{
 "cells": [
  {
   "cell_type": "code",
   "execution_count": 1,
   "metadata": {
    "collapsed": true
   },
   "outputs": [],
   "source": [
    "import re\n",
    "from bs4 import BeautifulSoup\n",
    "from urllib.request import Request, urlopen\n",
    "import pickle\n",
    "import pandas as pd\n",
    "import time\n",
    "import random\n",
    "import time\n",
    "from itertools import chain"
   ]
  },
  {
   "cell_type": "code",
   "execution_count": 119,
   "metadata": {
    "collapsed": true
   },
   "outputs": [],
   "source": [
    "req = Request('https://www.cia.gov/library/publications/the-world-factbook/appendix/appendix-d.html', headers={'User-Agent': 'Mozilla/5.0'})\n",
    "webpage = urlopen(req).read()\n",
    "soup = BeautifulSoup(webpage, 'lxml')\n",
    "letters = soup.find_all(\"tr\")\n",
    "raw_list = [[element.get_text()] for element in letters]\n",
    "\n",
    "lst = raw_list[8:]\n",
    "\n",
    "head = lst[0] \n",
    "\n",
    "lst = lst[1:]\n",
    "\n",
    "mask = list(range(0,len(lst),3))\n",
    "\n",
    "corp1 = [lst[i][0].replace('','').split('\\n') for i in range(len(lst))]\n",
    "\n",
    "corp2 = []\n",
    "for i in mask:\n",
    "    corp2.append(corp1[i])\n",
    "\n",
    "for j in corp2:\n",
    "    for i in j:\n",
    "            if i == '':\n",
    "                j.remove(i)\n",
    "\n",
    "fips_df = pd.DataFrame(corp2)\n",
    "\n",
    "del fips_df[5]\n",
    "del fips_df[8]\n",
    "del fips_df[9]\n",
    "fips_df.drop(279)\n",
    "\n",
    "ENTITY\tGEC\tISO 3166\tSTANAG\tINTERNET\t\n",
    "\n",
    "fips_df.columns = ['country', 'GEC', 'ISO3166_S', 'ISO3166_C', 'ISO3166_N', 'STANAG', 'internet']"
   ]
  },
  {
   "cell_type": "code",
   "execution_count": 143,
   "metadata": {},
   "outputs": [
    {
     "name": "stdout",
     "output_type": "stream",
     "text": [
      "Stored 'fips_df' (DataFrame)\n"
     ]
    }
   ],
   "source": [
    "fips_df.to_pickle()"
   ]
  }
 ],
 "metadata": {
  "kernelspec": {
   "display_name": "Python 3",
   "language": "python",
   "name": "python3"
  },
  "language_info": {
   "codemirror_mode": {
    "name": "ipython",
    "version": 3
   },
   "file_extension": ".py",
   "mimetype": "text/x-python",
   "name": "python",
   "nbconvert_exporter": "python",
   "pygments_lexer": "ipython3",
   "version": "3.6.2"
  }
 },
 "nbformat": 4,
 "nbformat_minor": 2
}
