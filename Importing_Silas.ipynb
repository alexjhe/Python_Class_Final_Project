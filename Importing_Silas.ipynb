{
 "cells": [
  {
   "cell_type": "code",
   "execution_count": 1,
   "metadata": {
    "collapsed": true
   },
   "outputs": [],
   "source": [
    "import wbdata\n",
    "import pandas as pd\n",
    "import re\n",
    "from bs4 import BeautifulSoup\n",
    "from urllib.request import Request, urlopen\n",
    "import pickle\n",
    "import random\n",
    "import time\n",
    "from itertools import chain\n",
    "path = 'c:/Users/silas/MIDS/jupyternotebooks/USAID/'"
   ]
  },
  {
   "cell_type": "markdown",
   "metadata": {},
   "source": [
    "> Freedom House"
   ]
  },
  {
   "cell_type": "code",
   "execution_count": 2,
   "metadata": {
    "collapsed": true
   },
   "outputs": [],
   "source": [
    "# read in freedom house (fh) data and copy to data frame\n",
    "fh_df = pd.read_csv('{}FH_Country_and_Territory_Ratings_and_Statuses_1972-2016.csv'.format(path))\n",
    "fh_df.to_pickle('{}fh_df.pickle'.format(path))"
   ]
  },
  {
   "cell_type": "code",
   "execution_count": 3,
   "metadata": {},
   "outputs": [
    {
     "data": {
      "text/plain": [
       "(207, 133)"
      ]
     },
     "execution_count": 3,
     "metadata": {},
     "output_type": "execute_result"
    }
   ],
   "source": [
    "fh_df.shape"
   ]
  },
  {
   "cell_type": "markdown",
   "metadata": {},
   "source": [
    "> U.S. Foreign Aid"
   ]
  },
  {
   "cell_type": "code",
   "execution_count": 4,
   "metadata": {
    "collapsed": true
   },
   "outputs": [],
   "source": [
    "# read in foreign aid (fa) data and copy to data frame\n",
    "df_fa = pd.read_csv('{}us_foreign_aid_complete (1).csv'.format(path), low_memory=False)\n",
    "df_fa.to_pickle('{}df_fa.pickle'.format(path))"
   ]
  },
  {
   "cell_type": "code",
   "execution_count": 5,
   "metadata": {},
   "outputs": [
    {
     "data": {
      "text/plain": [
       "(894897, 50)"
      ]
     },
     "execution_count": 5,
     "metadata": {},
     "output_type": "execute_result"
    }
   ],
   "source": [
    "df_fa.shape"
   ]
  },
  {
   "cell_type": "markdown",
   "metadata": {},
   "source": [
    "> World Bank Data"
   ]
  },
  {
   "cell_type": "code",
   "execution_count": 6,
   "metadata": {
    "collapsed": true
   },
   "outputs": [],
   "source": [
    "# wbdata.get_source()\n",
    "# wbdata.get_dataframe(indicators, country=u'all', data_date=None, convert_date=False, keep_levels=False)\n",
    "# wbdata.get_data(indicator, country=u'all', data_date=None, convert_date=False, pandas=False, column_name=u'value', keep_levels=False)\n",
    " # wbdata.get_indicator(source=43)\n",
    "'''\n",
    "VA.EST          \tVoice and Accountability: Estimate\n",
    "VA.STD.ERR      \tVoice and Accountability: Standard Error\n",
    "NY.GDP.TOTL.RT.ZS\tTotal natural resources rents (% of GDP)\n",
    "'''\n",
    "\n",
    "# wb data import (natural resource rents, voice, pop, gdppc)\n",
    "indicators = {\"NY.GDP.TOTL.RT.ZS\": \"nat\", \"VA.EST\": \"voice\", \"NY.GDP.PCAP.PP.KD\": \"gdppc\", \"SP.POP.TOTL\": \"pop\", \"SI.POV.GINI\": 'gini'}\n",
    "wb_data_df = wbdata.get_dataframe(indicators, convert_date=True)\n",
    "wb_data_df.reset_index(inplace=True)\n",
    "wb_data_df['year'] = wb_data_df.date.dt.year\n",
    "with open(\"{}wb_data_df.pickle\".format(path), \"wb\") as f:\n",
    "    pickle.dump(wb_data_df, f)\n",
    "\n",
    "# wb voice indicator significantly inversely correlated with natural resource rents\n",
    "wb_data_df.nat.corr(wb_data_df['voice'])\n",
    "wb_codes_df = pd.read_csv('{}wb_codes_raw.csv'.format(path), header=None, names=['country']).country.str.split('     ', expand=True)\n",
    "\n",
    "wb_codes_df = wb_codes_df.rename(columns={0:'wb_code',1:'country' })\n",
    "\n",
    "wb_codes_df.country[-1:] = 'Zimbabwe'\n",
    "\n",
    "\n",
    "with open(\"{}wb_codes_df.pickle\".format(path), \"wb\") as f:\n",
    "    pickle.dump(wb_codes_df, f)"
   ]
  },
  {
   "cell_type": "markdown",
   "metadata": {},
   "source": [
    "> FIPS Codes"
   ]
  },
  {
   "cell_type": "code",
   "execution_count": 7,
   "metadata": {
    "collapsed": true
   },
   "outputs": [],
   "source": [
    "fips_html = pd.read_html('https://www.cia.gov/library/publications/the-world-factbook/appendix/appendix-d.html')\n",
    "\n",
    "lst_fips = []\n",
    "for i in range(3,len(fips_html)):\n",
    "    lst_fips.append(tuple(fips_html[i].loc[0]))\n",
    "\n",
    "fips_df = pd.DataFrame(lst_fips)\n",
    "\n",
    "del fips_df[8]\n",
    "\n",
    "fips_df = fips_df.dropna(subset=[3]).reset_index(drop=True)\n",
    "\n",
    "fips_df.rename(columns={0:'country', 1:'GEC', 2:'not', 3:'ISO3166_S', 4:'ISO3166_C', 5:'ISO3166_N', 6:'STANAG', 7:'internet'}, inplace=True)\n",
    "\n",
    "del fips_df['not']\n",
    "\n",
    "with open(\"{}fips_df.pickle\".format(path), \"wb\") as f:\n",
    "    pickle.dump(fips_df, f)"
   ]
  }
 ],
 "metadata": {
  "kernelspec": {
   "display_name": "Python 3",
   "language": "python",
   "name": "python3"
  },
  "language_info": {
   "codemirror_mode": {
    "name": "ipython",
    "version": 3
   },
   "file_extension": ".py",
   "mimetype": "text/x-python",
   "name": "python",
   "nbconvert_exporter": "python",
   "pygments_lexer": "ipython3",
   "version": "3.6.2"
  }
 },
 "nbformat": 4,
 "nbformat_minor": 2
}
